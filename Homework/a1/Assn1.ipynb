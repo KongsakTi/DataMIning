{
 "cells": [
  {
   "cell_type": "code",
   "execution_count": 1,
   "metadata": {
    "collapsed": false
   },
   "outputs": [],
   "source": [
    "%matplotlib inline\n",
    "\n",
    "import matplotlib\n",
    "matplotlib.style.use('ggplot')\n",
    "\n",
    "import pandas as pd\n",
    "import numpy as np\n",
    "import matplotlib.pyplot as plt\n",
    "\n",
    "import apache_log_parser\n",
    "from pprint import pprint\n",
    "\n",
    "import re"
   ]
  },
  {
   "cell_type": "code",
   "execution_count": 2,
   "metadata": {
    "collapsed": false
   },
   "outputs": [
    {
     "data": {
      "text/plain": [
       "'2.0.0'"
      ]
     },
     "execution_count": 2,
     "metadata": {},
     "output_type": "execute_result"
    }
   ],
   "source": [
    "matplotlib.__version__"
   ]
  },
  {
   "cell_type": "markdown",
   "metadata": {},
   "source": [
    "# Assignment 1: Web Server Log Analysis"
   ]
  },
  {
   "cell_type": "markdown",
   "metadata": {},
   "source": [
    "Before we begin, make sure you have the following files:\n",
    "\n",
    "    data/NASA_access_log_Jul95\n",
    "    data/GeoIP.dat"
   ]
  },
  {
   "cell_type": "markdown",
   "metadata": {},
   "source": [
    "## Part 1: Load and parse the data\n",
    "\n",
    "\n",
    "For this part, you will load the data and store them in as a **list of python dictionaries**. Here are the first few lines of the log file.\n",
    "\n",
    "```\n",
    "199.72.81.55 - - [01/Jul/1995:00:00:01 -0400] \"GET /history/apollo/ HTTP/1.0\" 200 6245\n",
    "unicomp6.unicomp.net - - [01/Jul/1995:00:00:06 -0400] \"GET /shuttle/countdown/ HTTP/1.0\" 200 3985\n",
    "199.120.110.21 - - [01/Jul/1995:00:00:09 -0400] \"GET /shuttle/missions/sts-73/mission-sts-73.html HTTP/1.0\" 200 4085\n",
    "burger.letters.com - - [01/Jul/1995:00:00:11 -0400] \"GET /shuttle/countdown/liftoff.html HTTP/1.0\" 304 0\n",
    "```\n",
    "\n",
    "Below is an example formatting string and a short description of each element:\n",
    "    \n",
    "    format = r'%h %l %u %t \\\"%r\\\" %>s %b'\n",
    "    \n",
    "where\n",
    "\n",
    "    %h          - remote host (ie the client IP)\n",
    "    %l          - identity of the user determined by identd (not usually used since not reliable)\n",
    "    %u          - user name determined by HTTP authentication\n",
    "    %t          - time the server finished processing the request.\n",
    "    %r          - request line from the client. (\"GET / HTTP/1.0\")\n",
    "    %>s         - status code sent from the server to the client (200, 404 etc.)\n",
    "    %b          - size of the response to the client (in bytes)\n",
    "    \n",
    "\n",
    "Remember we want the data to be a *list of dictionaries* as shown below:\n",
    "\n",
    "    data = [\n",
    "    {'%>s': '200',\n",
    "     '%b': '6245',\n",
    "     '%h': '199.72.81.55',\n",
    "     '%l': '-',\n",
    "     '%r': 'GET /history/apollo/ HTTP/1.0',\n",
    "     '%t': '[01/Jul/1995:00:00:01 -0400]',\n",
    "     '%u': '-'},\n",
    "    {'%>s': '200',\n",
    "     '%b': '3985',\n",
    "     '%h': 'unicomp6.unicomp.net',\n",
    "     '%l': '-',\n",
    "     '%r': 'GET /shuttle/countdown/ HTTP/1.0',\n",
    "     '%t': '[01/Jul/1995:00:00:06 -0400]',\n",
    "     '%u': '-'},\n",
    "     ...\n",
    "    ]\n",
    "\n",
    "\n",
    "### Remarks \n",
    " - There are some log entries that are malformed. You may ignore them.\n",
    " - This Python package can be useful: `conda install -c auto apache-log-parser=1.3.0`\n",
    " "
   ]
  },
  {
   "cell_type": "code",
   "execution_count": null,
   "metadata": {
    "collapsed": true
   },
   "outputs": [],
   "source": [
    "sample = \"199.72.81.55 - - [01/Jul/1995:00:00:01 -0400] \\\"GET /history/apollo/ HTTP/1.0\\\" 200 6245 unicomp6.unicomp.net - - [01/Jul/1995:00:00:06 -0400] \\\"GET /shuttle/countdown/ HTTP/1.0\\\" 200 3985\""
   ]
  },
  {
   "cell_type": "code",
   "execution_count": null,
   "metadata": {
    "collapsed": false
   },
   "outputs": [],
   "source": [
    "re.match(\"\\d\", sample)"
   ]
  },
  {
   "cell_type": "code",
   "execution_count": null,
   "metadata": {
    "collapsed": false
   },
   "outputs": [],
   "source": [
    "# import apache_log_parser\n",
    "# from pprint import pprint\n",
    "# from multiprocessing import Pool\n",
    "\n",
    "# line_parser = apache_log_parser.make_parser(\"%h <<%P>> %t %Dus \\\"%r\\\" %>s %b  \\\"%{Referer}i\\\" \\\"%{User-Agent}i\\\" %l %u\")\n",
    "# log_line_data = line_parser('127.0.0.1 <<6113>> [16/Aug/2013:15:45:34 +0000] 1966093us \"GET / HTTP/1.1\" 200 3478  \"https://example.com/\" \"Mozilla/5.0 (X11; U; Linux x86_64; en-US; rv:1.9.2.18)\" - -')\n",
    "# from pprint import pprint\n",
    "# pprint(log_line_data)\n"
   ]
  },
  {
   "cell_type": "code",
   "execution_count": 3,
   "metadata": {
    "collapsed": false,
    "scrolled": false
   },
   "outputs": [],
   "source": [
    "# Fill code here\n",
    "\n",
    "# p = Pool(4)\n",
    "data = []\n",
    "myFormat = '%h %l %u %t \\\"%r\\\" %>s %b'\n",
    "lineParser = apache_log_parser.make_parser(myFormat)\n",
    "keyMap = {\"remote_host\": \"%h\", \"remote_logname\": \"%l\", \"remote_user\": \"%u\", \"time_recieved_datetimeobj\": \"%t\",\n",
    "            \"request_first_line\": \"%r\", \"status\": \"%>s\", \"response_bytes_clf\": \"%b\"}\n",
    "with open(\"data/NASA_access_log_Jul95\", 'r') as f:\n",
    "    \n",
    "    for i, line in enumerate(f):\n",
    "        try:\n",
    "            parseLine = lineParser(line)\n",
    "            line = {}\n",
    "            for key in keyMap.keys():\n",
    "                line[keyMap[key]] = parseLine[key]\n",
    "            data += [line]\n",
    "        except:\n",
    "            pass\n",
    "#         if i > 10:\n",
    "#             break\n"
   ]
  },
  {
   "cell_type": "code",
   "execution_count": 3,
   "metadata": {
    "collapsed": false
   },
   "outputs": [
    {
     "data": {
      "text/plain": [
       "[{'%>s': '200',\n",
       "  '%b': '6245',\n",
       "  '%h': '199.72.81.55',\n",
       "  '%l': '-',\n",
       "  '%r': 'GET /history/apollo/ HTTP/1.0',\n",
       "  '%t': datetime.datetime(1995, 7, 1, 0, 0, 1),\n",
       "  '%u': '-'},\n",
       " {'%>s': '200',\n",
       "  '%b': '3985',\n",
       "  '%h': 'unicomp6.unicomp.net',\n",
       "  '%l': '-',\n",
       "  '%r': 'GET /shuttle/countdown/ HTTP/1.0',\n",
       "  '%t': datetime.datetime(1995, 7, 1, 0, 0, 6),\n",
       "  '%u': '-'}]"
      ]
     },
     "execution_count": 3,
     "metadata": {},
     "output_type": "execute_result"
    }
   ],
   "source": [
    "data[:2]"
   ]
  },
  {
   "cell_type": "code",
   "execution_count": 5,
   "metadata": {
    "collapsed": false
   },
   "outputs": [
    {
     "data": {
      "text/plain": [
       "[{'%>s': '200',\n",
       "  '%b': '6245',\n",
       "  '%h': '199.72.81.55',\n",
       "  '%l': '-',\n",
       "  '%r': 'GET /history/apollo/ HTTP/1.0',\n",
       "  '%t': datetime.datetime(1995, 7, 1, 0, 0, 1),\n",
       "  '%u': '-'},\n",
       " {'%>s': '200',\n",
       "  '%b': '3985',\n",
       "  '%h': 'unicomp6.unicomp.net',\n",
       "  '%l': '-',\n",
       "  '%r': 'GET /shuttle/countdown/ HTTP/1.0',\n",
       "  '%t': datetime.datetime(1995, 7, 1, 0, 0, 6),\n",
       "  '%u': '-'}]"
      ]
     },
     "execution_count": 5,
     "metadata": {},
     "output_type": "execute_result"
    }
   ],
   "source": [
    "# Expected output\n",
    "data[:2]"
   ]
  },
  {
   "cell_type": "markdown",
   "metadata": {},
   "source": [
    "## Part 2: Create the Data Frame\n",
    "\n",
    "In this part, we will create a data frame from `data` and clean it up a little bit. First, create a data frame called `df` from `data`"
   ]
  },
  {
   "cell_type": "code",
   "execution_count": 4,
   "metadata": {
    "collapsed": false
   },
   "outputs": [],
   "source": [
    "# Fill code here\n",
    "df = pd.DataFrame(data)\n",
    "df.columns = [\"Status\", \"b\", \"IP\", \"%I\", \"Request\", \"Time\", \"%u\"]"
   ]
  },
  {
   "cell_type": "markdown",
   "metadata": {},
   "source": [
    "Now, show the first two line of `df`"
   ]
  },
  {
   "cell_type": "code",
   "execution_count": 5,
   "metadata": {
    "collapsed": false
   },
   "outputs": [
    {
     "data": {
      "text/html": [
       "<div>\n",
       "<table border=\"1\" class=\"dataframe\">\n",
       "  <thead>\n",
       "    <tr style=\"text-align: right;\">\n",
       "      <th></th>\n",
       "      <th>Status</th>\n",
       "      <th>b</th>\n",
       "      <th>IP</th>\n",
       "      <th>%I</th>\n",
       "      <th>Request</th>\n",
       "      <th>Time</th>\n",
       "      <th>%u</th>\n",
       "    </tr>\n",
       "  </thead>\n",
       "  <tbody>\n",
       "    <tr>\n",
       "      <th>0</th>\n",
       "      <td>200</td>\n",
       "      <td>6245</td>\n",
       "      <td>199.72.81.55</td>\n",
       "      <td>-</td>\n",
       "      <td>GET /history/apollo/ HTTP/1.0</td>\n",
       "      <td>1995-07-01 00:00:01</td>\n",
       "      <td>-</td>\n",
       "    </tr>\n",
       "    <tr>\n",
       "      <th>1</th>\n",
       "      <td>200</td>\n",
       "      <td>3985</td>\n",
       "      <td>unicomp6.unicomp.net</td>\n",
       "      <td>-</td>\n",
       "      <td>GET /shuttle/countdown/ HTTP/1.0</td>\n",
       "      <td>1995-07-01 00:00:06</td>\n",
       "      <td>-</td>\n",
       "    </tr>\n",
       "  </tbody>\n",
       "</table>\n",
       "</div>"
      ],
      "text/plain": [
       "  Status     b                    IP %I                           Request  \\\n",
       "0    200  6245          199.72.81.55  -     GET /history/apollo/ HTTP/1.0   \n",
       "1    200  3985  unicomp6.unicomp.net  -  GET /shuttle/countdown/ HTTP/1.0   \n",
       "\n",
       "                 Time %u  \n",
       "0 1995-07-01 00:00:01  -  \n",
       "1 1995-07-01 00:00:06  -  "
      ]
     },
     "execution_count": 5,
     "metadata": {},
     "output_type": "execute_result"
    }
   ],
   "source": [
    "# Fill code here\n",
    "df.head(2)"
   ]
  },
  {
   "cell_type": "code",
   "execution_count": null,
   "metadata": {
    "collapsed": false
   },
   "outputs": [],
   "source": [
    "# Expected output"
   ]
  },
  {
   "cell_type": "markdown",
   "metadata": {},
   "source": [
    "Rename the columns to `Status`, `b`, `IP`, `Request`, and `Time`. Remove all other columns."
   ]
  },
  {
   "cell_type": "code",
   "execution_count": 7,
   "metadata": {
    "collapsed": false
   },
   "outputs": [
    {
     "data": {
      "text/html": [
       "<div>\n",
       "<table border=\"1\" class=\"dataframe\">\n",
       "  <thead>\n",
       "    <tr style=\"text-align: right;\">\n",
       "      <th></th>\n",
       "      <th>IP</th>\n",
       "      <th>Request</th>\n",
       "      <th>Status</th>\n",
       "      <th>Time</th>\n",
       "      <th>b</th>\n",
       "    </tr>\n",
       "  </thead>\n",
       "  <tbody>\n",
       "    <tr>\n",
       "      <th>0</th>\n",
       "      <td>199.72.81.55</td>\n",
       "      <td>GET /history/apollo/ HTTP/1.0</td>\n",
       "      <td>200</td>\n",
       "      <td>1995-07-01 00:00:01</td>\n",
       "      <td>6245</td>\n",
       "    </tr>\n",
       "    <tr>\n",
       "      <th>1</th>\n",
       "      <td>unicomp6.unicomp.net</td>\n",
       "      <td>GET /shuttle/countdown/ HTTP/1.0</td>\n",
       "      <td>200</td>\n",
       "      <td>1995-07-01 00:00:06</td>\n",
       "      <td>3985</td>\n",
       "    </tr>\n",
       "    <tr>\n",
       "      <th>2</th>\n",
       "      <td>199.120.110.21</td>\n",
       "      <td>GET /shuttle/missions/sts-73/mission-sts-73.ht...</td>\n",
       "      <td>200</td>\n",
       "      <td>1995-07-01 00:00:09</td>\n",
       "      <td>4085</td>\n",
       "    </tr>\n",
       "    <tr>\n",
       "      <th>3</th>\n",
       "      <td>burger.letters.com</td>\n",
       "      <td>GET /shuttle/countdown/liftoff.html HTTP/1.0</td>\n",
       "      <td>304</td>\n",
       "      <td>1995-07-01 00:00:11</td>\n",
       "      <td>0</td>\n",
       "    </tr>\n",
       "    <tr>\n",
       "      <th>4</th>\n",
       "      <td>199.120.110.21</td>\n",
       "      <td>GET /shuttle/missions/sts-73/sts-73-patch-smal...</td>\n",
       "      <td>200</td>\n",
       "      <td>1995-07-01 00:00:11</td>\n",
       "      <td>4179</td>\n",
       "    </tr>\n",
       "  </tbody>\n",
       "</table>\n",
       "</div>"
      ],
      "text/plain": [
       "                     IP                                            Request  \\\n",
       "0          199.72.81.55                      GET /history/apollo/ HTTP/1.0   \n",
       "1  unicomp6.unicomp.net                   GET /shuttle/countdown/ HTTP/1.0   \n",
       "2        199.120.110.21  GET /shuttle/missions/sts-73/mission-sts-73.ht...   \n",
       "3    burger.letters.com       GET /shuttle/countdown/liftoff.html HTTP/1.0   \n",
       "4        199.120.110.21  GET /shuttle/missions/sts-73/sts-73-patch-smal...   \n",
       "\n",
       "  Status                Time     b  \n",
       "0    200 1995-07-01 00:00:01  6245  \n",
       "1    200 1995-07-01 00:00:06  3985  \n",
       "2    200 1995-07-01 00:00:09  4085  \n",
       "3    304 1995-07-01 00:00:11     0  \n",
       "4    200 1995-07-01 00:00:11  4179  "
      ]
     },
     "execution_count": 7,
     "metadata": {},
     "output_type": "execute_result"
    }
   ],
   "source": [
    "# Fill code here\n",
    "df = df[[\"IP\", \"Request\", \"Status\", \"Time\", \"b\"]]\n",
    "df.head(5)"
   ]
  },
  {
   "cell_type": "code",
   "execution_count": null,
   "metadata": {
    "collapsed": false
   },
   "outputs": [],
   "source": [
    "# Expected output"
   ]
  },
  {
   "cell_type": "markdown",
   "metadata": {},
   "source": [
    "Next, Convert Time column to datetime format and make an index out of it. Use `pd.to_datetime()`"
   ]
  },
  {
   "cell_type": "code",
   "execution_count": 5,
   "metadata": {
    "collapsed": false
   },
   "outputs": [],
   "source": [
    "# Fill code here\n",
    "df = df.set_index([\"Time\"])\n",
    "df = df[[\"Status\", \"b\", \"IP\", \"Request\"]]"
   ]
  },
  {
   "cell_type": "markdown",
   "metadata": {},
   "source": [
    "Change `Status` variable to type `int`. Use `.astype()`"
   ]
  },
  {
   "cell_type": "code",
   "execution_count": 6,
   "metadata": {
    "collapsed": false
   },
   "outputs": [],
   "source": [
    "# Fill code here\n",
    "df[\"Status\"] = df[\"Status\"].astype(int)"
   ]
  },
  {
   "cell_type": "markdown",
   "metadata": {},
   "source": [
    "Your data frame should have the following format"
   ]
  },
  {
   "cell_type": "code",
   "execution_count": 11,
   "metadata": {
    "collapsed": false
   },
   "outputs": [
    {
     "data": {
      "text/html": [
       "<div>\n",
       "<table border=\"1\" class=\"dataframe\">\n",
       "  <thead>\n",
       "    <tr style=\"text-align: right;\">\n",
       "      <th></th>\n",
       "      <th>Status</th>\n",
       "      <th>b</th>\n",
       "      <th>IP</th>\n",
       "      <th>Request</th>\n",
       "    </tr>\n",
       "    <tr>\n",
       "      <th>Time</th>\n",
       "      <th></th>\n",
       "      <th></th>\n",
       "      <th></th>\n",
       "      <th></th>\n",
       "    </tr>\n",
       "  </thead>\n",
       "  <tbody>\n",
       "    <tr>\n",
       "      <th>1995-07-01 00:00:01</th>\n",
       "      <td>200</td>\n",
       "      <td>6245</td>\n",
       "      <td>199.72.81.55</td>\n",
       "      <td>GET /history/apollo/ HTTP/1.0</td>\n",
       "    </tr>\n",
       "    <tr>\n",
       "      <th>1995-07-01 00:00:06</th>\n",
       "      <td>200</td>\n",
       "      <td>3985</td>\n",
       "      <td>unicomp6.unicomp.net</td>\n",
       "      <td>GET /shuttle/countdown/ HTTP/1.0</td>\n",
       "    </tr>\n",
       "    <tr>\n",
       "      <th>1995-07-01 00:00:09</th>\n",
       "      <td>200</td>\n",
       "      <td>4085</td>\n",
       "      <td>199.120.110.21</td>\n",
       "      <td>GET /shuttle/missions/sts-73/mission-sts-73.ht...</td>\n",
       "    </tr>\n",
       "    <tr>\n",
       "      <th>1995-07-01 00:00:11</th>\n",
       "      <td>304</td>\n",
       "      <td>0</td>\n",
       "      <td>burger.letters.com</td>\n",
       "      <td>GET /shuttle/countdown/liftoff.html HTTP/1.0</td>\n",
       "    </tr>\n",
       "    <tr>\n",
       "      <th>1995-07-01 00:00:11</th>\n",
       "      <td>200</td>\n",
       "      <td>4179</td>\n",
       "      <td>199.120.110.21</td>\n",
       "      <td>GET /shuttle/missions/sts-73/sts-73-patch-smal...</td>\n",
       "    </tr>\n",
       "  </tbody>\n",
       "</table>\n",
       "</div>"
      ],
      "text/plain": [
       "                     Status     b                    IP  \\\n",
       "Time                                                      \n",
       "1995-07-01 00:00:01     200  6245          199.72.81.55   \n",
       "1995-07-01 00:00:06     200  3985  unicomp6.unicomp.net   \n",
       "1995-07-01 00:00:09     200  4085        199.120.110.21   \n",
       "1995-07-01 00:00:11     304     0    burger.letters.com   \n",
       "1995-07-01 00:00:11     200  4179        199.120.110.21   \n",
       "\n",
       "                                                               Request  \n",
       "Time                                                                    \n",
       "1995-07-01 00:00:01                      GET /history/apollo/ HTTP/1.0  \n",
       "1995-07-01 00:00:06                   GET /shuttle/countdown/ HTTP/1.0  \n",
       "1995-07-01 00:00:09  GET /shuttle/missions/sts-73/mission-sts-73.ht...  \n",
       "1995-07-01 00:00:11       GET /shuttle/countdown/liftoff.html HTTP/1.0  \n",
       "1995-07-01 00:00:11  GET /shuttle/missions/sts-73/sts-73-patch-smal...  "
      ]
     },
     "execution_count": 11,
     "metadata": {},
     "output_type": "execute_result"
    }
   ],
   "source": [
    "df.head()"
   ]
  },
  {
   "cell_type": "code",
   "execution_count": null,
   "metadata": {
    "collapsed": false,
    "scrolled": false
   },
   "outputs": [],
   "source": [
    "# DO NOT CHANGE/RERUN\n",
    "# df.head()"
   ]
  },
  {
   "cell_type": "markdown",
   "metadata": {},
   "source": [
    "Some of the rows in the *b* column contain '-' string, so we can't convert them with *astype*. We can apply a custom function to this column, that will convert all dashes to NaN, and the rest to floats, additionally converting from bytes to megabytes:"
   ]
  },
  {
   "cell_type": "code",
   "execution_count": 7,
   "metadata": {
    "collapsed": false
   },
   "outputs": [],
   "source": [
    "def dash2nan(x):\n",
    "    if x == '-':\n",
    "        x = np.nan\n",
    "    else:\n",
    "        x = float(x)/1048576.\n",
    "    return x"
   ]
  },
  {
   "cell_type": "markdown",
   "metadata": {},
   "source": [
    "Apply the above fuction to `b` column of `df`. Try using `.apply()`"
   ]
  },
  {
   "cell_type": "code",
   "execution_count": 8,
   "metadata": {
    "collapsed": false
   },
   "outputs": [],
   "source": [
    "# Fill code here\n",
    "df[\"b\"] = df[\"b\"].apply(dash2nan)"
   ]
  },
  {
   "cell_type": "markdown",
   "metadata": {},
   "source": [
    "Now our data frame is ready!"
   ]
  },
  {
   "cell_type": "markdown",
   "metadata": {},
   "source": [
    "## Part 3: Traffic analysis"
   ]
  },
  {
   "cell_type": "markdown",
   "metadata": {},
   "source": [
    "First, plot the response size over time from 9am to 10am on Jul 13, 1995. Similar to the following plot:"
   ]
  },
  {
   "cell_type": "code",
   "execution_count": 17,
   "metadata": {
    "collapsed": false
   },
   "outputs": [
    {
     "data": {
      "text/plain": [
       "<matplotlib.axes.AxesSubplot at 0x105603650>"
      ]
     },
     "execution_count": 17,
     "metadata": {},
     "output_type": "execute_result"
    },
    {
     "data": {
      "image/png": "[encoded data removed]",
      "text/plain": [
       "<matplotlib.figure.Figure at 0x105603190>"
      ]
     },
     "metadata": {},
     "output_type": "display_data"
    }
   ],
   "source": [
    "# Fill code here\n",
    "start = \"1995-07-13 09:00:00\" <= df.index\n",
    "end = \"1995-07-13 10:00:00\" >= df.index\n",
    "indexing = np.logical_and(start, end)\n",
    "df[[\"b\"]][indexing].plot()"
   ]
  },
  {
   "cell_type": "code",
   "execution_count": null,
   "metadata": {
    "collapsed": false
   },
   "outputs": [],
   "source": [
    "# Expected output"
   ]
  },
  {
   "cell_type": "markdown",
   "metadata": {},
   "source": [
    "Next, use `.resample()` along with `.sum()` to resample the data and plot the traffic over time for all days. Use '10T' (every 10 minutes) as the sampling rate."
   ]
  },
  {
   "cell_type": "code",
   "execution_count": 18,
   "metadata": {
    "collapsed": false
   },
   "outputs": [
    {
     "data": {
      "text/plain": [
       "<matplotlib.axes.AxesSubplot at 0x165791d10>"
      ]
     },
     "execution_count": 18,
     "metadata": {},
     "output_type": "execute_result"
    },
    {
     "data": {
      "image/png": "[encoded data removed]",
      "text/plain": [
       "<matplotlib.figure.Figure at 0x147025a50>"
      ]
     },
     "metadata": {},
     "output_type": "display_data"
    }
   ],
   "source": [
    "# Fill code here\n",
    "# Fill code here\n",
    "# start = \"1995-07-13 09:00:00\" <= df.index\n",
    "# end = \"1995-07-13 10:00:00\" >= df.index\n",
    "# indexing = np.logical_and(start, end)\n",
    "df[[\"b\"]].resample(\"10T\").sum().plot()"
   ]
  },
  {
   "cell_type": "code",
   "execution_count": null,
   "metadata": {
    "collapsed": false
   },
   "outputs": [],
   "source": [
    "# Expected output"
   ]
  },
  {
   "cell_type": "markdown",
   "metadata": {},
   "source": [
    "Now try to zoom into 13 Jul 1995."
   ]
  },
  {
   "cell_type": "code",
   "execution_count": 19,
   "metadata": {
    "collapsed": false
   },
   "outputs": [
    {
     "data": {
      "text/plain": [
       "<matplotlib.axes.AxesSubplot at 0x167a18290>"
      ]
     },
     "execution_count": 19,
     "metadata": {},
     "output_type": "execute_result"
    },
    {
     "data": {
      "image/png": "[encoded data removed]",
      "text/plain": [
       "<matplotlib.figure.Figure at 0x1027c04d0>"
      ]
     },
     "metadata": {},
     "output_type": "display_data"
    }
   ],
   "source": [
    "# Fill code here\n",
    "start = \"1995-07-13 00:00:00\" <= df.index\n",
    "end = \"1995-07-13 23:59:59\" >= df.index\n",
    "indexing = np.logical_and(start, end)\n",
    "df[[\"b\"]][indexing].resample(\"10T\").sum().plot()"
   ]
  },
  {
   "cell_type": "code",
   "execution_count": null,
   "metadata": {
    "collapsed": false
   },
   "outputs": [],
   "source": [
    "# Expected output"
   ]
  },
  {
   "cell_type": "code",
   "execution_count": 20,
   "metadata": {
    "collapsed": false
   },
   "outputs": [
    {
     "data": {
      "text/html": [
       "<div>\n",
       "<table border=\"1\" class=\"dataframe\">\n",
       "  <thead>\n",
       "    <tr style=\"text-align: right;\">\n",
       "      <th></th>\n",
       "      <th>Status</th>\n",
       "      <th>b</th>\n",
       "      <th>IP</th>\n",
       "      <th>Request</th>\n",
       "    </tr>\n",
       "    <tr>\n",
       "      <th>Time</th>\n",
       "      <th></th>\n",
       "      <th></th>\n",
       "      <th></th>\n",
       "      <th></th>\n",
       "    </tr>\n",
       "  </thead>\n",
       "  <tbody>\n",
       "    <tr>\n",
       "      <th>1995-07-07 10:28:56</th>\n",
       "      <td>200</td>\n",
       "      <td>3.009318</td>\n",
       "      <td>spider.tbe.com</td>\n",
       "      <td>GET /statistics/1995/bkup/Mar95_full.html HTTP...</td>\n",
       "    </tr>\n",
       "    <tr>\n",
       "      <th>1995-07-07 14:03:32</th>\n",
       "      <td>200</td>\n",
       "      <td>6.507812</td>\n",
       "      <td>derec</td>\n",
       "      <td>GET /shuttle/countdown/video/livevideo.jpeg HT...</td>\n",
       "    </tr>\n",
       "    <tr>\n",
       "      <th>1995-07-09 09:22:14</th>\n",
       "      <td>200</td>\n",
       "      <td>3.009318</td>\n",
       "      <td>netspace.net.au</td>\n",
       "      <td>GET /statistics/1995/bkup/Mar95_full.html HTTP...</td>\n",
       "    </tr>\n",
       "    <tr>\n",
       "      <th>1995-07-13 14:38:43</th>\n",
       "      <td>200</td>\n",
       "      <td>3.009318</td>\n",
       "      <td>acf4.nyu.edu</td>\n",
       "      <td>GET /statistics/1995/bkup/Mar95_full.html   HT...</td>\n",
       "    </tr>\n",
       "    <tr>\n",
       "      <th>1995-07-14 09:11:29</th>\n",
       "      <td>200</td>\n",
       "      <td>3.009318</td>\n",
       "      <td>163.206.89.4</td>\n",
       "      <td>GET /statistics/1995/bkup/Mar95_full.html HTTP...</td>\n",
       "    </tr>\n",
       "    <tr>\n",
       "      <th>1995-07-17 13:31:01</th>\n",
       "      <td>200</td>\n",
       "      <td>3.009318</td>\n",
       "      <td>jcj8363.dukepower.com</td>\n",
       "      <td>GET /statistics/1995/bkup/Mar95_full.html   HT...</td>\n",
       "    </tr>\n",
       "    <tr>\n",
       "      <th>1995-07-22 13:08:18</th>\n",
       "      <td>200</td>\n",
       "      <td>3.009318</td>\n",
       "      <td>wuzza.harvard.edu</td>\n",
       "      <td>GET /statistics/1995/bkup/Mar95_full.html   HT...</td>\n",
       "    </tr>\n",
       "    <tr>\n",
       "      <th>1995-07-25 17:58:56</th>\n",
       "      <td>200</td>\n",
       "      <td>3.009318</td>\n",
       "      <td>198.122.135.40</td>\n",
       "      <td>GET /statistics/1995/bkup/Mar95_full.html   HT...</td>\n",
       "    </tr>\n",
       "  </tbody>\n",
       "</table>\n",
       "</div>"
      ],
      "text/plain": [
       "                     Status         b                     IP  \\\n",
       "Time                                                           \n",
       "1995-07-07 10:28:56     200  3.009318         spider.tbe.com   \n",
       "1995-07-07 14:03:32     200  6.507812                  derec   \n",
       "1995-07-09 09:22:14     200  3.009318        netspace.net.au   \n",
       "1995-07-13 14:38:43     200  3.009318           acf4.nyu.edu   \n",
       "1995-07-14 09:11:29     200  3.009318           163.206.89.4   \n",
       "1995-07-17 13:31:01     200  3.009318  jcj8363.dukepower.com   \n",
       "1995-07-22 13:08:18     200  3.009318      wuzza.harvard.edu   \n",
       "1995-07-25 17:58:56     200  3.009318         198.122.135.40   \n",
       "\n",
       "                                                               Request  \n",
       "Time                                                                    \n",
       "1995-07-07 10:28:56  GET /statistics/1995/bkup/Mar95_full.html HTTP...  \n",
       "1995-07-07 14:03:32  GET /shuttle/countdown/video/livevideo.jpeg HT...  \n",
       "1995-07-09 09:22:14  GET /statistics/1995/bkup/Mar95_full.html HTTP...  \n",
       "1995-07-13 14:38:43  GET /statistics/1995/bkup/Mar95_full.html   HT...  \n",
       "1995-07-14 09:11:29  GET /statistics/1995/bkup/Mar95_full.html HTTP...  \n",
       "1995-07-17 13:31:01  GET /statistics/1995/bkup/Mar95_full.html   HT...  \n",
       "1995-07-22 13:08:18  GET /statistics/1995/bkup/Mar95_full.html   HT...  \n",
       "1995-07-25 17:58:56  GET /statistics/1995/bkup/Mar95_full.html   HT...  "
      ]
     },
     "execution_count": 20,
     "metadata": {},
     "output_type": "execute_result"
    }
   ],
   "source": [
    "# Fill code here\n",
    "indexing = df[\"b\"] >= 3.0\n",
    "df[indexing]"
   ]
  },
  {
   "cell_type": "markdown",
   "metadata": {},
   "source": [
    "Let's find out large requests. Show requests that has response biggger than 3MB."
   ]
  },
  {
   "cell_type": "code",
   "execution_count": null,
   "metadata": {
    "collapsed": false
   },
   "outputs": [],
   "source": [
    "# Expected output"
   ]
  },
  {
   "cell_type": "markdown",
   "metadata": {},
   "source": [
    "what is the typical size of the server's response? Make a histogram of response sizes smaller than 3MB. Set number of bins to 10."
   ]
  },
  {
   "cell_type": "code",
   "execution_count": 21,
   "metadata": {
    "collapsed": false
   },
   "outputs": [
    {
     "data": {
      "text/plain": [
       "<matplotlib.axes.AxesSubplot at 0x16799cfd0>"
      ]
     },
     "execution_count": 21,
     "metadata": {},
     "output_type": "execute_result"
    },
    {
     "data": {
      "image/png": "[encoded data removed]",
      "text/plain": [
       "<matplotlib.figure.Figure at 0x157f24590>"
      ]
     },
     "metadata": {},
     "output_type": "display_data"
    }
   ],
   "source": [
    "# Fill code here\n",
    "df[\"b\"].hist()"
   ]
  },
  {
   "cell_type": "code",
   "execution_count": null,
   "metadata": {
    "collapsed": false
   },
   "outputs": [],
   "source": [
    "# Expected output"
   ]
  },
  {
   "cell_type": "markdown",
   "metadata": {},
   "source": [
    "So most of the files are less than 0.5 MB large. In fact they are even smaller. Show a histogram of responses sizes smaller than 0.05 MB. Set number of bins to 30."
   ]
  },
  {
   "cell_type": "code",
   "execution_count": 22,
   "metadata": {
    "collapsed": false
   },
   "outputs": [
    {
     "data": {
      "text/plain": [
       "<matplotlib.axes.AxesSubplot at 0x157ecb4d0>"
      ]
     },
     "execution_count": 22,
     "metadata": {},
     "output_type": "execute_result"
    },
    {
     "data": {
      "image/png": "[encoded data removed]",
      "text/plain": [
       "<matplotlib.figure.Figure at 0x158075e90>"
      ]
     },
     "metadata": {},
     "output_type": "display_data"
    }
   ],
   "source": [
    "# Fill code here\n",
    "indexing = df[\"b\"] <= 0.05\n",
    "df[\"b\"][indexing].hist(bins=30)"
   ]
  },
  {
   "cell_type": "code",
   "execution_count": null,
   "metadata": {
    "collapsed": false,
    "scrolled": true
   },
   "outputs": [],
   "source": [
    "# Expected output"
   ]
  },
  {
   "cell_type": "markdown",
   "metadata": {},
   "source": [
    "Very small responses can be all kinds of stuff, but larger ones are probably some relatively big files. Let's have a look at histogram of response sizes between 0.2 and 0.25 MB. Set number of bins to 100."
   ]
  },
  {
   "cell_type": "code",
   "execution_count": 23,
   "metadata": {
    "collapsed": false
   },
   "outputs": [
    {
     "data": {
      "text/plain": [
       "<matplotlib.axes.AxesSubplot at 0x158f6c650>"
      ]
     },
     "execution_count": 23,
     "metadata": {},
     "output_type": "execute_result"
    },
    {
     "data": {
      "image/png": "[encoded data removed]",
      "text/plain": [
       "<matplotlib.figure.Figure at 0x1580d9490>"
      ]
     },
     "metadata": {},
     "output_type": "display_data"
    }
   ],
   "source": [
    "# Fill code here\n",
    "fm = df[\"b\"] <= 0.25\n",
    "to = df[\"b\"] >= 0.2\n",
    "indexing = np.logical_and(fm, to)\n",
    "df[\"b\"][indexing].hist(bins=100)"
   ]
  },
  {
   "cell_type": "code",
   "execution_count": null,
   "metadata": {
    "collapsed": false
   },
   "outputs": [],
   "source": [
    "# Expected output"
   ]
  },
  {
   "cell_type": "markdown",
   "metadata": {},
   "source": [
    "We now can locate the size of the file more precisely, and find out their names. Show the entries that have response size between 0.22 and 0.224 MB."
   ]
  },
  {
   "cell_type": "code",
   "execution_count": 24,
   "metadata": {
    "collapsed": false
   },
   "outputs": [
    {
     "data": {
      "text/html": [
       "<div>\n",
       "<table border=\"1\" class=\"dataframe\">\n",
       "  <thead>\n",
       "    <tr style=\"text-align: right;\">\n",
       "      <th></th>\n",
       "      <th>Status</th>\n",
       "      <th>b</th>\n",
       "      <th>IP</th>\n",
       "      <th>Request</th>\n",
       "    </tr>\n",
       "    <tr>\n",
       "      <th>Time</th>\n",
       "      <th></th>\n",
       "      <th></th>\n",
       "      <th></th>\n",
       "      <th></th>\n",
       "    </tr>\n",
       "  </thead>\n",
       "  <tbody>\n",
       "    <tr>\n",
       "      <th>1995-07-01 08:39:58</th>\n",
       "      <td>200</td>\n",
       "      <td>0.223356</td>\n",
       "      <td>131.182.28.171</td>\n",
       "      <td>GET /shuttle/missions/sts-51/sts-51-patch.jpg ...</td>\n",
       "    </tr>\n",
       "    <tr>\n",
       "      <th>1995-07-02 11:17:25</th>\n",
       "      <td>200</td>\n",
       "      <td>0.223778</td>\n",
       "      <td>landon.iag.net</td>\n",
       "      <td>GET /news/sci.space.news/archive/sci-space-new...</td>\n",
       "    </tr>\n",
       "    <tr>\n",
       "      <th>1995-07-02 15:14:26</th>\n",
       "      <td>200</td>\n",
       "      <td>0.223009</td>\n",
       "      <td>www-d3.proxy.aol.com</td>\n",
       "      <td>GET /shuttle/missions/sts-50/sts-50-patch.jpg ...</td>\n",
       "    </tr>\n",
       "    <tr>\n",
       "      <th>1995-07-02 15:20:21</th>\n",
       "      <td>200</td>\n",
       "      <td>0.223356</td>\n",
       "      <td>www-d3.proxy.aol.com</td>\n",
       "      <td>GET /shuttle/missions/sts-51/sts-51-patch.jpg ...</td>\n",
       "    </tr>\n",
       "    <tr>\n",
       "      <th>1995-07-03 00:45:50</th>\n",
       "      <td>200</td>\n",
       "      <td>0.223356</td>\n",
       "      <td>atropos.jf.intel.com</td>\n",
       "      <td>GET /shuttle/missions/sts-51/sts-51-patch.jpg ...</td>\n",
       "    </tr>\n",
       "    <tr>\n",
       "      <th>1995-07-03 01:25:14</th>\n",
       "      <td>200</td>\n",
       "      <td>0.223778</td>\n",
       "      <td>dd12-003.compuserve.com</td>\n",
       "      <td>GET /news/sci.space.news/archive/sci-space-new...</td>\n",
       "    </tr>\n",
       "    <tr>\n",
       "      <th>1995-07-03 16:46:37</th>\n",
       "      <td>200</td>\n",
       "      <td>0.223356</td>\n",
       "      <td>www-b6.proxy.aol.com</td>\n",
       "      <td>GET /shuttle/missions/sts-51/sts-51-patch.jpg ...</td>\n",
       "    </tr>\n",
       "    <tr>\n",
       "      <th>1995-07-03 22:02:04</th>\n",
       "      <td>200</td>\n",
       "      <td>0.221816</td>\n",
       "      <td>gemini.tntech.edu</td>\n",
       "      <td>GET /news/sci.space.news/archive/sci-space-new...</td>\n",
       "    </tr>\n",
       "    <tr>\n",
       "      <th>1995-07-05 21:15:16</th>\n",
       "      <td>200</td>\n",
       "      <td>0.223778</td>\n",
       "      <td>ad09-066.compuserve.com</td>\n",
       "      <td>GET /news/sci.space.news/archive/sci-space-new...</td>\n",
       "    </tr>\n",
       "    <tr>\n",
       "      <th>1995-07-06 08:36:12</th>\n",
       "      <td>200</td>\n",
       "      <td>0.223356</td>\n",
       "      <td>jbiagioni.npt.nuwc.navy.mil</td>\n",
       "      <td>GET /shuttle/missions/sts-51/sts-51-patch.jpg ...</td>\n",
       "    </tr>\n",
       "    <tr>\n",
       "      <th>1995-07-06 11:10:48</th>\n",
       "      <td>200</td>\n",
       "      <td>0.223009</td>\n",
       "      <td>jbiagioni.npt.nuwc.navy.mil</td>\n",
       "      <td>GET /shuttle/missions/sts-50/sts-50-patch.jpg ...</td>\n",
       "    </tr>\n",
       "    <tr>\n",
       "      <th>1995-07-06 15:08:49</th>\n",
       "      <td>200</td>\n",
       "      <td>0.221627</td>\n",
       "      <td>jbiagioni.npt.nuwc.navy.mil</td>\n",
       "      <td>GET /shuttle/missions/sts-35/sts-35-patch.jpg ...</td>\n",
       "    </tr>\n",
       "    <tr>\n",
       "      <th>1995-07-06 18:49:30</th>\n",
       "      <td>200</td>\n",
       "      <td>0.223356</td>\n",
       "      <td>proxy.exodus.net</td>\n",
       "      <td>GET /shuttle/missions/sts-51/sts-51-patch.jpg ...</td>\n",
       "    </tr>\n",
       "    <tr>\n",
       "      <th>1995-07-07 09:27:38</th>\n",
       "      <td>200</td>\n",
       "      <td>0.223303</td>\n",
       "      <td>n1122812.ksc.nasa.gov</td>\n",
       "      <td>GET /news/sci.space.news/archive/sci-space-new...</td>\n",
       "    </tr>\n",
       "    <tr>\n",
       "      <th>1995-07-07 12:03:17</th>\n",
       "      <td>200</td>\n",
       "      <td>0.223356</td>\n",
       "      <td>m31-51.bgsu.edu</td>\n",
       "      <td>GET /shuttle/missions/sts-51/sts-51-patch.jpg ...</td>\n",
       "    </tr>\n",
       "    <tr>\n",
       "      <th>1995-07-07 13:15:42</th>\n",
       "      <td>200</td>\n",
       "      <td>0.221627</td>\n",
       "      <td>198.14.55.105</td>\n",
       "      <td>GET /shuttle/missions/sts-35/sts-35-patch.jpg ...</td>\n",
       "    </tr>\n",
       "    <tr>\n",
       "      <th>1995-07-07 16:40:16</th>\n",
       "      <td>200</td>\n",
       "      <td>0.223009</td>\n",
       "      <td>198.14.55.105</td>\n",
       "      <td>GET /shuttle/missions/sts-50/sts-50-patch.jpg ...</td>\n",
       "    </tr>\n",
       "    <tr>\n",
       "      <th>1995-07-07 17:14:58</th>\n",
       "      <td>200</td>\n",
       "      <td>0.221816</td>\n",
       "      <td>ganymedeh4.netdepot.com</td>\n",
       "      <td>GET /news/sci.space.news/archive/sci-space-new...</td>\n",
       "    </tr>\n",
       "    <tr>\n",
       "      <th>1995-07-07 17:37:51</th>\n",
       "      <td>200</td>\n",
       "      <td>0.223356</td>\n",
       "      <td>198.14.55.105</td>\n",
       "      <td>GET /shuttle/missions/sts-51/sts-51-patch.jpg ...</td>\n",
       "    </tr>\n",
       "    <tr>\n",
       "      <th>1995-07-08 01:05:10</th>\n",
       "      <td>200</td>\n",
       "      <td>0.223303</td>\n",
       "      <td>monolith.uunet.ca</td>\n",
       "      <td>GET /news/sci.space.news/archive/sci-space-new...</td>\n",
       "    </tr>\n",
       "    <tr>\n",
       "      <th>1995-07-09 00:26:50</th>\n",
       "      <td>200</td>\n",
       "      <td>0.221627</td>\n",
       "      <td>clrc.ca.gov</td>\n",
       "      <td>GET /shuttle/missions/sts-35/sts-35-patch.jpg ...</td>\n",
       "    </tr>\n",
       "    <tr>\n",
       "      <th>1995-07-09 00:42:26</th>\n",
       "      <td>200</td>\n",
       "      <td>0.223303</td>\n",
       "      <td>netspace.net.au</td>\n",
       "      <td>GET /news/sci.space.news/archive/sci-space-new...</td>\n",
       "    </tr>\n",
       "    <tr>\n",
       "      <th>1995-07-09 21:48:39</th>\n",
       "      <td>200</td>\n",
       "      <td>0.221627</td>\n",
       "      <td>slip37-221.il.us.ibm.net</td>\n",
       "      <td>GET /shuttle/missions/sts-35/sts-35-patch.jpg ...</td>\n",
       "    </tr>\n",
       "    <tr>\n",
       "      <th>1995-07-10 02:31:02</th>\n",
       "      <td>200</td>\n",
       "      <td>0.223356</td>\n",
       "      <td>fts3p13-bfs.scri.fsu.edu</td>\n",
       "      <td>GET /shuttle/missions/sts-51/sts-51-patch.jpg ...</td>\n",
       "    </tr>\n",
       "    <tr>\n",
       "      <th>1995-07-10 14:46:29</th>\n",
       "      <td>200</td>\n",
       "      <td>0.223009</td>\n",
       "      <td>fts3p5-bfs.scri.fsu.edu</td>\n",
       "      <td>GET /shuttle/missions/sts-50/sts-50-patch.jpg ...</td>\n",
       "    </tr>\n",
       "    <tr>\n",
       "      <th>1995-07-10 15:15:03</th>\n",
       "      <td>200</td>\n",
       "      <td>0.221227</td>\n",
       "      <td>cfdiris.eng.miami.edu</td>\n",
       "      <td>GET /news/sci.space.news/archive/sci-space-new...</td>\n",
       "    </tr>\n",
       "    <tr>\n",
       "      <th>1995-07-10 19:34:49</th>\n",
       "      <td>200</td>\n",
       "      <td>0.221227</td>\n",
       "      <td>hmfpc1.berkeley.edu</td>\n",
       "      <td>GET /news/sci.space.news/archive/sci-space-new...</td>\n",
       "    </tr>\n",
       "    <tr>\n",
       "      <th>1995-07-11 19:02:15</th>\n",
       "      <td>200</td>\n",
       "      <td>0.221227</td>\n",
       "      <td>dal09.onramp.net</td>\n",
       "      <td>GET /news/sci.space.news/archive/sci-space-new...</td>\n",
       "    </tr>\n",
       "    <tr>\n",
       "      <th>1995-07-12 13:15:32</th>\n",
       "      <td>200</td>\n",
       "      <td>0.221627</td>\n",
       "      <td>grus.db.erau.edu</td>\n",
       "      <td>GET /shuttle/missions/sts-35/sts-35-patch.jpg ...</td>\n",
       "    </tr>\n",
       "    <tr>\n",
       "      <th>1995-07-12 14:39:01</th>\n",
       "      <td>200</td>\n",
       "      <td>0.223009</td>\n",
       "      <td>grus.db.erau.edu</td>\n",
       "      <td>GET /shuttle/missions/sts-50/sts-50-patch.jpg ...</td>\n",
       "    </tr>\n",
       "    <tr>\n",
       "      <th>...</th>\n",
       "      <td>...</td>\n",
       "      <td>...</td>\n",
       "      <td>...</td>\n",
       "      <td>...</td>\n",
       "    </tr>\n",
       "    <tr>\n",
       "      <th>1995-07-13 12:53:15</th>\n",
       "      <td>200</td>\n",
       "      <td>0.221627</td>\n",
       "      <td>proxy0.research.att.com</td>\n",
       "      <td>GET /shuttle/missions/sts-35/sts-35-patch.jpg ...</td>\n",
       "    </tr>\n",
       "    <tr>\n",
       "      <th>1995-07-13 17:51:10</th>\n",
       "      <td>200</td>\n",
       "      <td>0.223009</td>\n",
       "      <td>proxy0.research.att.com</td>\n",
       "      <td>GET /shuttle/missions/sts-50/sts-50-patch.jpg ...</td>\n",
       "    </tr>\n",
       "    <tr>\n",
       "      <th>1995-07-14 14:09:07</th>\n",
       "      <td>200</td>\n",
       "      <td>0.223967</td>\n",
       "      <td>bstfirewall.bst.bls.com</td>\n",
       "      <td>GET /shuttle/missions/41-d/images/84HC473.GIF ...</td>\n",
       "    </tr>\n",
       "    <tr>\n",
       "      <th>1995-07-15 11:10:54</th>\n",
       "      <td>200</td>\n",
       "      <td>0.221816</td>\n",
       "      <td>palazz.pnet.msen.com</td>\n",
       "      <td>GET /news/sci.space.news/archive/sci-space-new...</td>\n",
       "    </tr>\n",
       "    <tr>\n",
       "      <th>1995-07-15 19:03:02</th>\n",
       "      <td>200</td>\n",
       "      <td>0.221816</td>\n",
       "      <td>138.200.71.30</td>\n",
       "      <td>GET /news/sci.space.news/archive/sci-space-new...</td>\n",
       "    </tr>\n",
       "    <tr>\n",
       "      <th>1995-07-15 20:46:22</th>\n",
       "      <td>200</td>\n",
       "      <td>0.221627</td>\n",
       "      <td>port27.fishnet.net</td>\n",
       "      <td>GET /shuttle/missions/sts-35/sts-35-patch.jpg ...</td>\n",
       "    </tr>\n",
       "    <tr>\n",
       "      <th>1995-07-16 22:03:00</th>\n",
       "      <td>200</td>\n",
       "      <td>0.221627</td>\n",
       "      <td>port27.fishnet.net</td>\n",
       "      <td>GET /shuttle/missions/sts-35/sts-35-patch.jpg ...</td>\n",
       "    </tr>\n",
       "    <tr>\n",
       "      <th>1995-07-16 22:17:36</th>\n",
       "      <td>200</td>\n",
       "      <td>0.223009</td>\n",
       "      <td>port27.fishnet.net</td>\n",
       "      <td>GET /shuttle/missions/sts-50/sts-50-patch.jpg ...</td>\n",
       "    </tr>\n",
       "    <tr>\n",
       "      <th>1995-07-17 15:41:41</th>\n",
       "      <td>200</td>\n",
       "      <td>0.223778</td>\n",
       "      <td>www-b2.proxy.aol.com</td>\n",
       "      <td>GET /news/sci.space.news/archive/sci-space-new...</td>\n",
       "    </tr>\n",
       "    <tr>\n",
       "      <th>1995-07-17 16:14:49</th>\n",
       "      <td>200</td>\n",
       "      <td>0.223778</td>\n",
       "      <td>polin3.secyt.gov.ar</td>\n",
       "      <td>GET /news/sci.space.news/archive/sci-space-new...</td>\n",
       "    </tr>\n",
       "    <tr>\n",
       "      <th>1995-07-17 17:14:25</th>\n",
       "      <td>200</td>\n",
       "      <td>0.223356</td>\n",
       "      <td>port71.fishnet.net</td>\n",
       "      <td>GET /shuttle/missions/sts-51/sts-51-patch.jpg ...</td>\n",
       "    </tr>\n",
       "    <tr>\n",
       "      <th>1995-07-17 17:39:37</th>\n",
       "      <td>200</td>\n",
       "      <td>0.223356</td>\n",
       "      <td>proxy0.research.att.com</td>\n",
       "      <td>GET /shuttle/missions/sts-51/sts-51-patch.jpg ...</td>\n",
       "    </tr>\n",
       "    <tr>\n",
       "      <th>1995-07-17 21:19:26</th>\n",
       "      <td>200</td>\n",
       "      <td>0.223778</td>\n",
       "      <td>itcmac15.cl.uh.edu</td>\n",
       "      <td>GET /news/sci.space.news/archive/sci-space-new...</td>\n",
       "    </tr>\n",
       "    <tr>\n",
       "      <th>1995-07-18 16:21:32</th>\n",
       "      <td>200</td>\n",
       "      <td>0.221627</td>\n",
       "      <td>pinta.csee.usf.edu</td>\n",
       "      <td>GET /shuttle/missions/sts-35/sts-35-patch.jpg ...</td>\n",
       "    </tr>\n",
       "    <tr>\n",
       "      <th>1995-07-19 02:20:20</th>\n",
       "      <td>200</td>\n",
       "      <td>0.223356</td>\n",
       "      <td>crazypete.ai.sri.com</td>\n",
       "      <td>GET /shuttle/missions/sts-51/sts-51-patch.jpg ...</td>\n",
       "    </tr>\n",
       "    <tr>\n",
       "      <th>1995-07-19 16:35:08</th>\n",
       "      <td>200</td>\n",
       "      <td>0.221052</td>\n",
       "      <td>199.78.203.3</td>\n",
       "      <td>GET /news/sci.space.news/archive/sci-space-new...</td>\n",
       "    </tr>\n",
       "    <tr>\n",
       "      <th>1995-07-19 19:49:57</th>\n",
       "      <td>200</td>\n",
       "      <td>0.221816</td>\n",
       "      <td>uns.edu.ar</td>\n",
       "      <td>GET /news/sci.space.news/archive/sci-space-new...</td>\n",
       "    </tr>\n",
       "    <tr>\n",
       "      <th>1995-07-20 08:59:58</th>\n",
       "      <td>200</td>\n",
       "      <td>0.223778</td>\n",
       "      <td>128.158.209.49</td>\n",
       "      <td>GET /news/sci.space.news/archive/sci-space-new...</td>\n",
       "    </tr>\n",
       "    <tr>\n",
       "      <th>1995-07-20 13:14:29</th>\n",
       "      <td>200</td>\n",
       "      <td>0.223009</td>\n",
       "      <td>pinta.csee.usf.edu</td>\n",
       "      <td>GET /shuttle/missions/sts-50/sts-50-patch.jpg ...</td>\n",
       "    </tr>\n",
       "    <tr>\n",
       "      <th>1995-07-20 15:57:52</th>\n",
       "      <td>200</td>\n",
       "      <td>0.223303</td>\n",
       "      <td>vagrant.vf.mmc.com</td>\n",
       "      <td>GET /news/sci.space.news/archive/sci-space-new...</td>\n",
       "    </tr>\n",
       "    <tr>\n",
       "      <th>1995-07-20 16:23:23</th>\n",
       "      <td>200</td>\n",
       "      <td>0.223356</td>\n",
       "      <td>pinta.csee.usf.edu</td>\n",
       "      <td>GET /shuttle/missions/sts-51/sts-51-patch.jpg ...</td>\n",
       "    </tr>\n",
       "    <tr>\n",
       "      <th>1995-07-21 08:00:24</th>\n",
       "      <td>200</td>\n",
       "      <td>0.221627</td>\n",
       "      <td>159.56.52.48</td>\n",
       "      <td>GET /shuttle/missions/sts-35/sts-35-patch.jpg ...</td>\n",
       "    </tr>\n",
       "    <tr>\n",
       "      <th>1995-07-21 08:09:15</th>\n",
       "      <td>200</td>\n",
       "      <td>0.223009</td>\n",
       "      <td>159.56.52.48</td>\n",
       "      <td>GET /shuttle/missions/sts-50/sts-50-patch.jpg ...</td>\n",
       "    </tr>\n",
       "    <tr>\n",
       "      <th>1995-07-21 14:40:50</th>\n",
       "      <td>200</td>\n",
       "      <td>0.223356</td>\n",
       "      <td>199.211.154.14</td>\n",
       "      <td>GET /shuttle/missions/sts-51/sts-51-patch.jpg ...</td>\n",
       "    </tr>\n",
       "    <tr>\n",
       "      <th>1995-07-21 17:21:43</th>\n",
       "      <td>200</td>\n",
       "      <td>0.221816</td>\n",
       "      <td>gw4.att.com</td>\n",
       "      <td>GET /news/sci.space.news/archive/sci-space-new...</td>\n",
       "    </tr>\n",
       "    <tr>\n",
       "      <th>1995-07-24 09:13:05</th>\n",
       "      <td>200</td>\n",
       "      <td>0.221816</td>\n",
       "      <td>ad14-035.compuserve.com</td>\n",
       "      <td>GET /news/sci.space.news/archive/sci-space-new...</td>\n",
       "    </tr>\n",
       "    <tr>\n",
       "      <th>1995-07-24 14:24:37</th>\n",
       "      <td>200</td>\n",
       "      <td>0.223356</td>\n",
       "      <td>cesium.ms.sandia.gov</td>\n",
       "      <td>GET /shuttle/missions/sts-51/sts-51-patch.jpg ...</td>\n",
       "    </tr>\n",
       "    <tr>\n",
       "      <th>1995-07-25 11:49:57</th>\n",
       "      <td>200</td>\n",
       "      <td>0.221816</td>\n",
       "      <td>msfcsma3.msfc.nasa.gov</td>\n",
       "      <td>GET /news/sci.space.news/archive/sci-space-new...</td>\n",
       "    </tr>\n",
       "    <tr>\n",
       "      <th>1995-07-26 18:03:31</th>\n",
       "      <td>200</td>\n",
       "      <td>0.221627</td>\n",
       "      <td>www.rrz.uni-koeln.de</td>\n",
       "      <td>GET /shuttle/missions/sts-35/sts-35-patch.jpg ...</td>\n",
       "    </tr>\n",
       "    <tr>\n",
       "      <th>1995-07-27 00:26:35</th>\n",
       "      <td>200</td>\n",
       "      <td>0.221227</td>\n",
       "      <td>farlink.ll.mit.edu</td>\n",
       "      <td>GET /news/sci.space.news/archive/sci-space-new...</td>\n",
       "    </tr>\n",
       "  </tbody>\n",
       "</table>\n",
       "<p>66 rows × 4 columns</p>\n",
       "</div>"
      ],
      "text/plain": [
       "                     Status         b                           IP  \\\n",
       "Time                                                                 \n",
       "1995-07-01 08:39:58     200  0.223356               131.182.28.171   \n",
       "1995-07-02 11:17:25     200  0.223778               landon.iag.net   \n",
       "1995-07-02 15:14:26     200  0.223009         www-d3.proxy.aol.com   \n",
       "1995-07-02 15:20:21     200  0.223356         www-d3.proxy.aol.com   \n",
       "1995-07-03 00:45:50     200  0.223356         atropos.jf.intel.com   \n",
       "1995-07-03 01:25:14     200  0.223778      dd12-003.compuserve.com   \n",
       "1995-07-03 16:46:37     200  0.223356         www-b6.proxy.aol.com   \n",
       "1995-07-03 22:02:04     200  0.221816            gemini.tntech.edu   \n",
       "1995-07-05 21:15:16     200  0.223778      ad09-066.compuserve.com   \n",
       "1995-07-06 08:36:12     200  0.223356  jbiagioni.npt.nuwc.navy.mil   \n",
       "1995-07-06 11:10:48     200  0.223009  jbiagioni.npt.nuwc.navy.mil   \n",
       "1995-07-06 15:08:49     200  0.221627  jbiagioni.npt.nuwc.navy.mil   \n",
       "1995-07-06 18:49:30     200  0.223356             proxy.exodus.net   \n",
       "1995-07-07 09:27:38     200  0.223303        n1122812.ksc.nasa.gov   \n",
       "1995-07-07 12:03:17     200  0.223356              m31-51.bgsu.edu   \n",
       "1995-07-07 13:15:42     200  0.221627                198.14.55.105   \n",
       "1995-07-07 16:40:16     200  0.223009                198.14.55.105   \n",
       "1995-07-07 17:14:58     200  0.221816      ganymedeh4.netdepot.com   \n",
       "1995-07-07 17:37:51     200  0.223356                198.14.55.105   \n",
       "1995-07-08 01:05:10     200  0.223303            monolith.uunet.ca   \n",
       "1995-07-09 00:26:50     200  0.221627                  clrc.ca.gov   \n",
       "1995-07-09 00:42:26     200  0.223303              netspace.net.au   \n",
       "1995-07-09 21:48:39     200  0.221627     slip37-221.il.us.ibm.net   \n",
       "1995-07-10 02:31:02     200  0.223356     fts3p13-bfs.scri.fsu.edu   \n",
       "1995-07-10 14:46:29     200  0.223009      fts3p5-bfs.scri.fsu.edu   \n",
       "1995-07-10 15:15:03     200  0.221227        cfdiris.eng.miami.edu   \n",
       "1995-07-10 19:34:49     200  0.221227          hmfpc1.berkeley.edu   \n",
       "1995-07-11 19:02:15     200  0.221227             dal09.onramp.net   \n",
       "1995-07-12 13:15:32     200  0.221627             grus.db.erau.edu   \n",
       "1995-07-12 14:39:01     200  0.223009             grus.db.erau.edu   \n",
       "...                     ...       ...                          ...   \n",
       "1995-07-13 12:53:15     200  0.221627      proxy0.research.att.com   \n",
       "1995-07-13 17:51:10     200  0.223009      proxy0.research.att.com   \n",
       "1995-07-14 14:09:07     200  0.223967      bstfirewall.bst.bls.com   \n",
       "1995-07-15 11:10:54     200  0.221816         palazz.pnet.msen.com   \n",
       "1995-07-15 19:03:02     200  0.221816                138.200.71.30   \n",
       "1995-07-15 20:46:22     200  0.221627           port27.fishnet.net   \n",
       "1995-07-16 22:03:00     200  0.221627           port27.fishnet.net   \n",
       "1995-07-16 22:17:36     200  0.223009           port27.fishnet.net   \n",
       "1995-07-17 15:41:41     200  0.223778         www-b2.proxy.aol.com   \n",
       "1995-07-17 16:14:49     200  0.223778          polin3.secyt.gov.ar   \n",
       "1995-07-17 17:14:25     200  0.223356           port71.fishnet.net   \n",
       "1995-07-17 17:39:37     200  0.223356      proxy0.research.att.com   \n",
       "1995-07-17 21:19:26     200  0.223778           itcmac15.cl.uh.edu   \n",
       "1995-07-18 16:21:32     200  0.221627           pinta.csee.usf.edu   \n",
       "1995-07-19 02:20:20     200  0.223356         crazypete.ai.sri.com   \n",
       "1995-07-19 16:35:08     200  0.221052                 199.78.203.3   \n",
       "1995-07-19 19:49:57     200  0.221816                   uns.edu.ar   \n",
       "1995-07-20 08:59:58     200  0.223778               128.158.209.49   \n",
       "1995-07-20 13:14:29     200  0.223009           pinta.csee.usf.edu   \n",
       "1995-07-20 15:57:52     200  0.223303           vagrant.vf.mmc.com   \n",
       "1995-07-20 16:23:23     200  0.223356           pinta.csee.usf.edu   \n",
       "1995-07-21 08:00:24     200  0.221627                 159.56.52.48   \n",
       "1995-07-21 08:09:15     200  0.223009                 159.56.52.48   \n",
       "1995-07-21 14:40:50     200  0.223356               199.211.154.14   \n",
       "1995-07-21 17:21:43     200  0.221816                  gw4.att.com   \n",
       "1995-07-24 09:13:05     200  0.221816      ad14-035.compuserve.com   \n",
       "1995-07-24 14:24:37     200  0.223356         cesium.ms.sandia.gov   \n",
       "1995-07-25 11:49:57     200  0.221816       msfcsma3.msfc.nasa.gov   \n",
       "1995-07-26 18:03:31     200  0.221627         www.rrz.uni-koeln.de   \n",
       "1995-07-27 00:26:35     200  0.221227           farlink.ll.mit.edu   \n",
       "\n",
       "                                                               Request  \n",
       "Time                                                                    \n",
       "1995-07-01 08:39:58  GET /shuttle/missions/sts-51/sts-51-patch.jpg ...  \n",
       "1995-07-02 11:17:25  GET /news/sci.space.news/archive/sci-space-new...  \n",
       "1995-07-02 15:14:26  GET /shuttle/missions/sts-50/sts-50-patch.jpg ...  \n",
       "1995-07-02 15:20:21  GET /shuttle/missions/sts-51/sts-51-patch.jpg ...  \n",
       "1995-07-03 00:45:50  GET /shuttle/missions/sts-51/sts-51-patch.jpg ...  \n",
       "1995-07-03 01:25:14  GET /news/sci.space.news/archive/sci-space-new...  \n",
       "1995-07-03 16:46:37  GET /shuttle/missions/sts-51/sts-51-patch.jpg ...  \n",
       "1995-07-03 22:02:04  GET /news/sci.space.news/archive/sci-space-new...  \n",
       "1995-07-05 21:15:16  GET /news/sci.space.news/archive/sci-space-new...  \n",
       "1995-07-06 08:36:12  GET /shuttle/missions/sts-51/sts-51-patch.jpg ...  \n",
       "1995-07-06 11:10:48  GET /shuttle/missions/sts-50/sts-50-patch.jpg ...  \n",
       "1995-07-06 15:08:49  GET /shuttle/missions/sts-35/sts-35-patch.jpg ...  \n",
       "1995-07-06 18:49:30  GET /shuttle/missions/sts-51/sts-51-patch.jpg ...  \n",
       "1995-07-07 09:27:38  GET /news/sci.space.news/archive/sci-space-new...  \n",
       "1995-07-07 12:03:17  GET /shuttle/missions/sts-51/sts-51-patch.jpg ...  \n",
       "1995-07-07 13:15:42  GET /shuttle/missions/sts-35/sts-35-patch.jpg ...  \n",
       "1995-07-07 16:40:16  GET /shuttle/missions/sts-50/sts-50-patch.jpg ...  \n",
       "1995-07-07 17:14:58  GET /news/sci.space.news/archive/sci-space-new...  \n",
       "1995-07-07 17:37:51  GET /shuttle/missions/sts-51/sts-51-patch.jpg ...  \n",
       "1995-07-08 01:05:10  GET /news/sci.space.news/archive/sci-space-new...  \n",
       "1995-07-09 00:26:50  GET /shuttle/missions/sts-35/sts-35-patch.jpg ...  \n",
       "1995-07-09 00:42:26  GET /news/sci.space.news/archive/sci-space-new...  \n",
       "1995-07-09 21:48:39  GET /shuttle/missions/sts-35/sts-35-patch.jpg ...  \n",
       "1995-07-10 02:31:02  GET /shuttle/missions/sts-51/sts-51-patch.jpg ...  \n",
       "1995-07-10 14:46:29  GET /shuttle/missions/sts-50/sts-50-patch.jpg ...  \n",
       "1995-07-10 15:15:03  GET /news/sci.space.news/archive/sci-space-new...  \n",
       "1995-07-10 19:34:49  GET /news/sci.space.news/archive/sci-space-new...  \n",
       "1995-07-11 19:02:15  GET /news/sci.space.news/archive/sci-space-new...  \n",
       "1995-07-12 13:15:32  GET /shuttle/missions/sts-35/sts-35-patch.jpg ...  \n",
       "1995-07-12 14:39:01  GET /shuttle/missions/sts-50/sts-50-patch.jpg ...  \n",
       "...                                                                ...  \n",
       "1995-07-13 12:53:15  GET /shuttle/missions/sts-35/sts-35-patch.jpg ...  \n",
       "1995-07-13 17:51:10  GET /shuttle/missions/sts-50/sts-50-patch.jpg ...  \n",
       "1995-07-14 14:09:07  GET /shuttle/missions/41-d/images/84HC473.GIF ...  \n",
       "1995-07-15 11:10:54  GET /news/sci.space.news/archive/sci-space-new...  \n",
       "1995-07-15 19:03:02  GET /news/sci.space.news/archive/sci-space-new...  \n",
       "1995-07-15 20:46:22  GET /shuttle/missions/sts-35/sts-35-patch.jpg ...  \n",
       "1995-07-16 22:03:00  GET /shuttle/missions/sts-35/sts-35-patch.jpg ...  \n",
       "1995-07-16 22:17:36  GET /shuttle/missions/sts-50/sts-50-patch.jpg ...  \n",
       "1995-07-17 15:41:41  GET /news/sci.space.news/archive/sci-space-new...  \n",
       "1995-07-17 16:14:49  GET /news/sci.space.news/archive/sci-space-new...  \n",
       "1995-07-17 17:14:25  GET /shuttle/missions/sts-51/sts-51-patch.jpg ...  \n",
       "1995-07-17 17:39:37  GET /shuttle/missions/sts-51/sts-51-patch.jpg ...  \n",
       "1995-07-17 21:19:26  GET /news/sci.space.news/archive/sci-space-new...  \n",
       "1995-07-18 16:21:32  GET /shuttle/missions/sts-35/sts-35-patch.jpg ...  \n",
       "1995-07-19 02:20:20  GET /shuttle/missions/sts-51/sts-51-patch.jpg ...  \n",
       "1995-07-19 16:35:08  GET /news/sci.space.news/archive/sci-space-new...  \n",
       "1995-07-19 19:49:57  GET /news/sci.space.news/archive/sci-space-new...  \n",
       "1995-07-20 08:59:58  GET /news/sci.space.news/archive/sci-space-new...  \n",
       "1995-07-20 13:14:29  GET /shuttle/missions/sts-50/sts-50-patch.jpg ...  \n",
       "1995-07-20 15:57:52  GET /news/sci.space.news/archive/sci-space-new...  \n",
       "1995-07-20 16:23:23  GET /shuttle/missions/sts-51/sts-51-patch.jpg ...  \n",
       "1995-07-21 08:00:24  GET /shuttle/missions/sts-35/sts-35-patch.jpg ...  \n",
       "1995-07-21 08:09:15  GET /shuttle/missions/sts-50/sts-50-patch.jpg ...  \n",
       "1995-07-21 14:40:50  GET /shuttle/missions/sts-51/sts-51-patch.jpg ...  \n",
       "1995-07-21 17:21:43  GET /news/sci.space.news/archive/sci-space-new...  \n",
       "1995-07-24 09:13:05  GET /news/sci.space.news/archive/sci-space-new...  \n",
       "1995-07-24 14:24:37  GET /shuttle/missions/sts-51/sts-51-patch.jpg ...  \n",
       "1995-07-25 11:49:57  GET /news/sci.space.news/archive/sci-space-new...  \n",
       "1995-07-26 18:03:31  GET /shuttle/missions/sts-35/sts-35-patch.jpg ...  \n",
       "1995-07-27 00:26:35  GET /news/sci.space.news/archive/sci-space-new...  \n",
       "\n",
       "[66 rows x 4 columns]"
      ]
     },
     "execution_count": 24,
     "metadata": {},
     "output_type": "execute_result"
    }
   ],
   "source": [
    "# Fill code here\n",
    "to = df[\"b\"] <= 0.224\n",
    "fm = df[\"b\"] >= 0.22\n",
    "indexing = np.logical_and(fm, to)\n",
    "df[indexing]"
   ]
  },
  {
   "cell_type": "code",
   "execution_count": null,
   "metadata": {
    "collapsed": false
   },
   "outputs": [],
   "source": [
    "# Expected output"
   ]
  },
  {
   "cell_type": "markdown",
   "metadata": {},
   "source": [
    "## Part 4 : Server status codes"
   ]
  },
  {
   "cell_type": "markdown",
   "metadata": {},
   "source": [
    "I would like to know how different server responses are distributed through time. Create a new Data Frame that counts the number of requests per status in every 2 hour time spans.\n",
    "\n",
    "```\n",
    "HTTP Status Code\n",
    "----------------\n",
    "200 - OK\n",
    "302 - Found\n",
    "304 - Not Modified\n",
    "400 - Bad Request\n",
    "403 - Forbidden \n",
    "404 - Not Found\n",
    "500 - Internal Server Error\n",
    "501 - Not Implemented\n",
    "```"
   ]
  },
  {
   "cell_type": "code",
   "execution_count": 12,
   "metadata": {
    "collapsed": false
   },
   "outputs": [],
   "source": [
    "\n",
    "codeMap = {\n",
    "200 : \"OK\",\n",
    "302 : \"Found\",\n",
    "304 : \"Not Modified\",\n",
    "400 : \"Bad Request\",\n",
    "403 : \"Forbidden\" ,\n",
    "404 : \"Not Found\",\n",
    "500 : \"Internal Server Error\",\n",
    "501 : \"Not Implemented\"\n",
    "}\n",
    "\n",
    "statusMap = {}\n",
    "for key in codeMap.keys():\n",
    "    indexing = df[[\"Status\"]] == key\n",
    "    tmp = df[[\"Status\"]][indexing].resample(\"2H\").count()\n",
    "    tmp.columns = [codeMap[key]]\n",
    "    statusMap[key] = tmp"
   ]
  },
  {
   "cell_type": "code",
   "execution_count": 13,
   "metadata": {
    "collapsed": false
   },
   "outputs": [],
   "source": [
    "newDF = pd.DataFrame(index=statusMap[200].index)"
   ]
  },
  {
   "cell_type": "code",
   "execution_count": 131,
   "metadata": {
    "collapsed": false
   },
   "outputs": [],
   "source": [
    "for key in codeMap.keys():\n",
    "    newDF.loc[:, codeMap[key]] = statusMap[key]"
   ]
  },
  {
   "cell_type": "code",
   "execution_count": 133,
   "metadata": {
    "collapsed": false
   },
   "outputs": [
    {
     "data": {
      "text/html": [
       "<div>\n",
       "<table border=\"1\" class=\"dataframe\">\n",
       "  <thead>\n",
       "    <tr style=\"text-align: right;\">\n",
       "      <th></th>\n",
       "      <th>OK</th>\n",
       "      <th>Not Modified</th>\n",
       "      <th>Bad Request</th>\n",
       "      <th>Forbidden</th>\n",
       "      <th>Not Found</th>\n",
       "      <th>Not Implemented</th>\n",
       "      <th>Internal Server Error</th>\n",
       "      <th>Found</th>\n",
       "    </tr>\n",
       "    <tr>\n",
       "      <th>Time</th>\n",
       "      <th></th>\n",
       "      <th></th>\n",
       "      <th></th>\n",
       "      <th></th>\n",
       "      <th></th>\n",
       "      <th></th>\n",
       "      <th></th>\n",
       "      <th></th>\n",
       "    </tr>\n",
       "  </thead>\n",
       "  <tbody>\n",
       "    <tr>\n",
       "      <th>1995-07-01 00:00:00</th>\n",
       "      <td>5915</td>\n",
       "      <td>328</td>\n",
       "      <td>0</td>\n",
       "      <td>0</td>\n",
       "      <td>34</td>\n",
       "      <td>0</td>\n",
       "      <td>0</td>\n",
       "      <td>292</td>\n",
       "    </tr>\n",
       "    <tr>\n",
       "      <th>1995-07-01 02:00:00</th>\n",
       "      <td>3603</td>\n",
       "      <td>236</td>\n",
       "      <td>0</td>\n",
       "      <td>0</td>\n",
       "      <td>28</td>\n",
       "      <td>0</td>\n",
       "      <td>0</td>\n",
       "      <td>135</td>\n",
       "    </tr>\n",
       "    <tr>\n",
       "      <th>1995-07-01 04:00:00</th>\n",
       "      <td>2517</td>\n",
       "      <td>198</td>\n",
       "      <td>0</td>\n",
       "      <td>0</td>\n",
       "      <td>19</td>\n",
       "      <td>0</td>\n",
       "      <td>0</td>\n",
       "      <td>91</td>\n",
       "    </tr>\n",
       "    <tr>\n",
       "      <th>1995-07-01 06:00:00</th>\n",
       "      <td>2684</td>\n",
       "      <td>261</td>\n",
       "      <td>0</td>\n",
       "      <td>0</td>\n",
       "      <td>6</td>\n",
       "      <td>0</td>\n",
       "      <td>0</td>\n",
       "      <td>134</td>\n",
       "    </tr>\n",
       "    <tr>\n",
       "      <th>1995-07-01 08:00:00</th>\n",
       "      <td>3565</td>\n",
       "      <td>296</td>\n",
       "      <td>0</td>\n",
       "      <td>0</td>\n",
       "      <td>9</td>\n",
       "      <td>0</td>\n",
       "      <td>0</td>\n",
       "      <td>153</td>\n",
       "    </tr>\n",
       "  </tbody>\n",
       "</table>\n",
       "</div>"
      ],
      "text/plain": [
       "                       OK  Not Modified  Bad Request  Forbidden  Not Found  \\\n",
       "Time                                                                         \n",
       "1995-07-01 00:00:00  5915           328            0          0         34   \n",
       "1995-07-01 02:00:00  3603           236            0          0         28   \n",
       "1995-07-01 04:00:00  2517           198            0          0         19   \n",
       "1995-07-01 06:00:00  2684           261            0          0          6   \n",
       "1995-07-01 08:00:00  3565           296            0          0          9   \n",
       "\n",
       "                     Not Implemented  Internal Server Error  Found  \n",
       "Time                                                                \n",
       "1995-07-01 00:00:00                0                      0    292  \n",
       "1995-07-01 02:00:00                0                      0    135  \n",
       "1995-07-01 04:00:00                0                      0     91  \n",
       "1995-07-01 06:00:00                0                      0    134  \n",
       "1995-07-01 08:00:00                0                      0    153  "
      ]
     },
     "execution_count": 133,
     "metadata": {},
     "output_type": "execute_result"
    }
   ],
   "source": [
    "newDF.head()"
   ]
  },
  {
   "cell_type": "code",
   "execution_count": 136,
   "metadata": {
    "collapsed": false
   },
   "outputs": [
    {
     "name": "stdout",
     "output_type": "stream",
     "text": [
      "Index([u'OK', u'Not Modified', u'Bad Request', u'Forbidden', u'Not Found',\n",
      "       u'Not Implemented', u'Internal Server Error', u'Found'],\n",
      "      dtype='object')\n"
     ]
    }
   ],
   "source": [
    "print newDF.columns"
   ]
  },
  {
   "cell_type": "markdown",
   "metadata": {},
   "source": [
    "We plot all values at once:"
   ]
  },
  {
   "cell_type": "code",
   "execution_count": 138,
   "metadata": {
    "collapsed": false
   },
   "outputs": [
    {
     "data": {
      "text/plain": [
       "<matplotlib.axes._subplots.AxesSubplot at 0x7f8299a36ad0>"
      ]
     },
     "execution_count": 138,
     "metadata": {},
     "output_type": "execute_result"
    },
    {
     "data": {
      "image/png": "[encoded data removed]",
      "text/plain": [
       "<matplotlib.figure.Figure at 0x7f8299a4c7d0>"
      ]
     },
     "metadata": {},
     "output_type": "display_data"
    }
   ],
   "source": [
    "# Fill code here\n",
    "\n",
    "newDF[[u'OK', u'Not Modified', u'Bad Request', u'Forbidden', u'Not Found',\n",
    "       u'Not Implemented', u'Internal Server Error', u'Found']].plot(figsize=(15, 15))"
   ]
  },
  {
   "cell_type": "code",
   "execution_count": null,
   "metadata": {
    "collapsed": false
   },
   "outputs": [],
   "source": [
    "# Expected output"
   ]
  },
  {
   "cell_type": "markdown",
   "metadata": {},
   "source": [
    "Show only Error and Redirection status codes as a stacked plot. You should show daily data. Use `.plot(kind='barh',stacked=True,figsize=(10,7))`"
   ]
  },
  {
   "cell_type": "code",
   "execution_count": 140,
   "metadata": {
    "collapsed": true
   },
   "outputs": [],
   "source": [
    "\n",
    "codeMap = {\n",
    "200 : \"OK\",\n",
    "302 : \"Found\",\n",
    "304 : \"Not Modified\",\n",
    "400 : \"Bad Request\",\n",
    "403 : \"Forbidden\" ,\n",
    "404 : \"Not Found\",\n",
    "500 : \"Internal Server Error\",\n",
    "501 : \"Not Implemented\"\n",
    "}\n",
    "\n",
    "statusMap = {}\n",
    "for key in codeMap.keys():\n",
    "    indexing = df[[\"Status\"]] == key\n",
    "    tmp = df[[\"Status\"]][indexing].resample(\"1D\").count()\n",
    "    tmp.columns = [codeMap[key]]\n",
    "    statusMap[key] = tmp"
   ]
  },
  {
   "cell_type": "code",
   "execution_count": 142,
   "metadata": {
    "collapsed": true
   },
   "outputs": [],
   "source": [
    "newDF = pd.DataFrame(index=statusMap[200].index)\n",
    "for key in codeMap.keys():\n",
    "    newDF.loc[:, codeMap[key]] = statusMap[key]"
   ]
  },
  {
   "cell_type": "code",
   "execution_count": 143,
   "metadata": {
    "collapsed": false
   },
   "outputs": [
    {
     "data": {
      "text/plain": [
       "<matplotlib.axes._subplots.AxesSubplot at 0x7f8295f97a90>"
      ]
     },
     "execution_count": 143,
     "metadata": {},
     "output_type": "execute_result"
    },
    {
     "data": {
      "image/png": "[encoded data removed]",
      "text/plain": [
       "<matplotlib.figure.Figure at 0x7f8295fa27d0>"
      ]
     },
     "metadata": {},
     "output_type": "display_data"
    }
   ],
   "source": [
    "newDF[[u'Not Modified', u'Bad Request', u'Forbidden', u'Not Found',\n",
    "       u'Not Implemented', u'Internal Server Error', u'Found']].plot(kind='barh',stacked=True, figsize=(10, 7))\n",
    "# Fill code here"
   ]
  },
  {
   "cell_type": "code",
   "execution_count": null,
   "metadata": {
    "collapsed": false
   },
   "outputs": [],
   "source": [
    "# Expected output"
   ]
  },
  {
   "cell_type": "markdown",
   "metadata": {},
   "source": [
    "But there is a better way to receive statistics about different groups of values. Here we group our data by *Status* by using `.groupby()`"
   ]
  },
  {
   "cell_type": "code",
   "execution_count": 14,
   "metadata": {
    "collapsed": false
   },
   "outputs": [],
   "source": [
    "# Fill code here\n",
    "grouped_status = df.groupby(['Status'])"
   ]
  },
  {
   "cell_type": "markdown",
   "metadata": {},
   "source": [
    "Data are now rearranged in to several groups, each corresponding to a certain value of *Status* (here, only the first two values of every group are shown):"
   ]
  },
  {
   "cell_type": "code",
   "execution_count": 157,
   "metadata": {
    "collapsed": false
   },
   "outputs": [
    {
     "data": {
      "text/html": [
       "<div>\n",
       "<table border=\"1\" class=\"dataframe\">\n",
       "  <thead>\n",
       "    <tr style=\"text-align: right;\">\n",
       "      <th></th>\n",
       "      <th>Status</th>\n",
       "      <th>b</th>\n",
       "      <th>IP</th>\n",
       "      <th>Request</th>\n",
       "    </tr>\n",
       "    <tr>\n",
       "      <th>Time</th>\n",
       "      <th></th>\n",
       "      <th></th>\n",
       "      <th></th>\n",
       "      <th></th>\n",
       "    </tr>\n",
       "  </thead>\n",
       "  <tbody>\n",
       "    <tr>\n",
       "      <th>1995-07-01 00:00:01</th>\n",
       "      <td>200</td>\n",
       "      <td>0.005956</td>\n",
       "      <td>199.72.81.55</td>\n",
       "      <td>GET /history/apollo/ HTTP/1.0</td>\n",
       "    </tr>\n",
       "    <tr>\n",
       "      <th>1995-07-01 00:00:06</th>\n",
       "      <td>200</td>\n",
       "      <td>0.003800</td>\n",
       "      <td>unicomp6.unicomp.net</td>\n",
       "      <td>GET /shuttle/countdown/ HTTP/1.0</td>\n",
       "    </tr>\n",
       "    <tr>\n",
       "      <th>1995-07-01 00:00:11</th>\n",
       "      <td>304</td>\n",
       "      <td>0.000000</td>\n",
       "      <td>burger.letters.com</td>\n",
       "      <td>GET /shuttle/countdown/liftoff.html HTTP/1.0</td>\n",
       "    </tr>\n",
       "    <tr>\n",
       "      <th>1995-07-01 00:00:12</th>\n",
       "      <td>304</td>\n",
       "      <td>0.000000</td>\n",
       "      <td>burger.letters.com</td>\n",
       "      <td>GET /images/NASA-logosmall.gif HTTP/1.0</td>\n",
       "    </tr>\n",
       "    <tr>\n",
       "      <th>1995-07-01 00:01:06</th>\n",
       "      <td>302</td>\n",
       "      <td>0.000105</td>\n",
       "      <td>205.189.154.54</td>\n",
       "      <td>GET /cgi-bin/imagemap/countdown?99,176 HTTP/1.0</td>\n",
       "    </tr>\n",
       "    <tr>\n",
       "      <th>1995-07-01 00:01:12</th>\n",
       "      <td>404</td>\n",
       "      <td>NaN</td>\n",
       "      <td>dd15-062.compuserve.com</td>\n",
       "      <td>GET /news/sci.space.shuttle/archive/sci-space-...</td>\n",
       "    </tr>\n",
       "    <tr>\n",
       "      <th>1995-07-01 00:01:53</th>\n",
       "      <td>302</td>\n",
       "      <td>0.000105</td>\n",
       "      <td>remote27.compusmart.ab.ca</td>\n",
       "      <td>GET /cgi-bin/imagemap/countdown?102,174 HTTP/1.0</td>\n",
       "    </tr>\n",
       "    <tr>\n",
       "      <th>1995-07-01 00:10:19</th>\n",
       "      <td>404</td>\n",
       "      <td>NaN</td>\n",
       "      <td>netport-27.iu.net</td>\n",
       "      <td>GET /pub/winvn/readme.txt HTTP/1.0</td>\n",
       "    </tr>\n",
       "    <tr>\n",
       "      <th>1995-07-02 00:55:38</th>\n",
       "      <td>403</td>\n",
       "      <td>NaN</td>\n",
       "      <td>pc0135.metrolink.net</td>\n",
       "      <td>GET /shuttle/missions/sts-71/images/images/eks...</td>\n",
       "    </tr>\n",
       "    <tr>\n",
       "      <th>1995-07-02 16:22:21</th>\n",
       "      <td>403</td>\n",
       "      <td>NaN</td>\n",
       "      <td>198.70.174.235</td>\n",
       "      <td>GET /software/winvn/winvn.html/winvn.gif HTTP/1.0</td>\n",
       "    </tr>\n",
       "    <tr>\n",
       "      <th>1995-07-03 10:49:40</th>\n",
       "      <td>500</td>\n",
       "      <td>0.000000</td>\n",
       "      <td>163.205.1.45</td>\n",
       "      <td>GET /cgi-bin/geturlstats.pl HTTP/1.0</td>\n",
       "    </tr>\n",
       "    <tr>\n",
       "      <th>1995-07-03 10:49:41</th>\n",
       "      <td>500</td>\n",
       "      <td>0.000000</td>\n",
       "      <td>163.205.1.45</td>\n",
       "      <td>GET /cgi-bin/geturlstats.pl HTTP/1.0</td>\n",
       "    </tr>\n",
       "    <tr>\n",
       "      <th>1995-07-05 16:22:12</th>\n",
       "      <td>501</td>\n",
       "      <td>NaN</td>\n",
       "      <td>134.57.9.77</td>\n",
       "      <td>POST /ksc.html HTTP/1.0</td>\n",
       "    </tr>\n",
       "    <tr>\n",
       "      <th>1995-07-07 16:21:15</th>\n",
       "      <td>501</td>\n",
       "      <td>NaN</td>\n",
       "      <td>ix-tf1-18.ix.netcom.com</td>\n",
       "      <td>POST / HTTP/1.0</td>\n",
       "    </tr>\n",
       "    <tr>\n",
       "      <th>1995-07-10 16:45:50</th>\n",
       "      <td>400</td>\n",
       "      <td>NaN</td>\n",
       "      <td>klothos.crl.research.digital.com</td>\n",
       "      <td>\u0005\u0001</td>\n",
       "    </tr>\n",
       "    <tr>\n",
       "      <th>1995-07-20 07:34:34</th>\n",
       "      <td>400</td>\n",
       "      <td>NaN</td>\n",
       "      <td>firewall.dfw.ibm.com</td>\n",
       "      <td>1/history/apollo/images/</td>\n",
       "    </tr>\n",
       "  </tbody>\n",
       "</table>\n",
       "</div>"
      ],
      "text/plain": [
       "                     Status         b                                IP  \\\n",
       "Time                                                                      \n",
       "1995-07-01 00:00:01     200  0.005956                      199.72.81.55   \n",
       "1995-07-01 00:00:06     200  0.003800              unicomp6.unicomp.net   \n",
       "1995-07-01 00:00:11     304  0.000000                burger.letters.com   \n",
       "1995-07-01 00:00:12     304  0.000000                burger.letters.com   \n",
       "1995-07-01 00:01:06     302  0.000105                    205.189.154.54   \n",
       "1995-07-01 00:01:12     404       NaN           dd15-062.compuserve.com   \n",
       "1995-07-01 00:01:53     302  0.000105         remote27.compusmart.ab.ca   \n",
       "1995-07-01 00:10:19     404       NaN                 netport-27.iu.net   \n",
       "1995-07-02 00:55:38     403       NaN              pc0135.metrolink.net   \n",
       "1995-07-02 16:22:21     403       NaN                    198.70.174.235   \n",
       "1995-07-03 10:49:40     500  0.000000                      163.205.1.45   \n",
       "1995-07-03 10:49:41     500  0.000000                      163.205.1.45   \n",
       "1995-07-05 16:22:12     501       NaN                       134.57.9.77   \n",
       "1995-07-07 16:21:15     501       NaN           ix-tf1-18.ix.netcom.com   \n",
       "1995-07-10 16:45:50     400       NaN  klothos.crl.research.digital.com   \n",
       "1995-07-20 07:34:34     400       NaN              firewall.dfw.ibm.com   \n",
       "\n",
       "                                                               Request  \n",
       "Time                                                                    \n",
       "1995-07-01 00:00:01                      GET /history/apollo/ HTTP/1.0  \n",
       "1995-07-01 00:00:06                   GET /shuttle/countdown/ HTTP/1.0  \n",
       "1995-07-01 00:00:11       GET /shuttle/countdown/liftoff.html HTTP/1.0  \n",
       "1995-07-01 00:00:12            GET /images/NASA-logosmall.gif HTTP/1.0  \n",
       "1995-07-01 00:01:06    GET /cgi-bin/imagemap/countdown?99,176 HTTP/1.0  \n",
       "1995-07-01 00:01:12  GET /news/sci.space.shuttle/archive/sci-space-...  \n",
       "1995-07-01 00:01:53   GET /cgi-bin/imagemap/countdown?102,174 HTTP/1.0  \n",
       "1995-07-01 00:10:19                 GET /pub/winvn/readme.txt HTTP/1.0  \n",
       "1995-07-02 00:55:38  GET /shuttle/missions/sts-71/images/images/eks...  \n",
       "1995-07-02 16:22:21  GET /software/winvn/winvn.html/winvn.gif HTTP/1.0  \n",
       "1995-07-03 10:49:40               GET /cgi-bin/geturlstats.pl HTTP/1.0  \n",
       "1995-07-03 10:49:41               GET /cgi-bin/geturlstats.pl HTTP/1.0  \n",
       "1995-07-05 16:22:12                            POST /ksc.html HTTP/1.0  \n",
       "1995-07-07 16:21:15                                    POST / HTTP/1.0  \n",
       "1995-07-10 16:45:50                                                 \u0005\u0001  \n",
       "1995-07-20 07:34:34                           1/history/apollo/images/  "
      ]
     },
     "execution_count": 157,
     "metadata": {},
     "output_type": "execute_result"
    }
   ],
   "source": [
    "grouped_status.head(2)"
   ]
  },
  {
   "cell_type": "markdown",
   "metadata": {},
   "source": [
    "We can count the number of values in each group:"
   ]
  },
  {
   "cell_type": "code",
   "execution_count": 15,
   "metadata": {
    "collapsed": false
   },
   "outputs": [
    {
     "data": {
      "text/html": [
       "<div>\n",
       "<table border=\"1\" class=\"dataframe\">\n",
       "  <thead>\n",
       "    <tr style=\"text-align: right;\">\n",
       "      <th></th>\n",
       "      <th>b</th>\n",
       "      <th>IP</th>\n",
       "      <th>Request</th>\n",
       "    </tr>\n",
       "    <tr>\n",
       "      <th>Status</th>\n",
       "      <th></th>\n",
       "      <th></th>\n",
       "      <th></th>\n",
       "    </tr>\n",
       "  </thead>\n",
       "  <tbody>\n",
       "    <tr>\n",
       "      <th>200</th>\n",
       "      <td>1701451</td>\n",
       "      <td>1701534</td>\n",
       "      <td>1701534</td>\n",
       "    </tr>\n",
       "    <tr>\n",
       "      <th>302</th>\n",
       "      <td>37847</td>\n",
       "      <td>46573</td>\n",
       "      <td>46573</td>\n",
       "    </tr>\n",
       "    <tr>\n",
       "      <th>304</th>\n",
       "      <td>132627</td>\n",
       "      <td>132627</td>\n",
       "      <td>132627</td>\n",
       "    </tr>\n",
       "    <tr>\n",
       "      <th>400</th>\n",
       "      <td>0</td>\n",
       "      <td>5</td>\n",
       "      <td>5</td>\n",
       "    </tr>\n",
       "    <tr>\n",
       "      <th>403</th>\n",
       "      <td>0</td>\n",
       "      <td>54</td>\n",
       "      <td>54</td>\n",
       "    </tr>\n",
       "    <tr>\n",
       "      <th>404</th>\n",
       "      <td>1</td>\n",
       "      <td>10845</td>\n",
       "      <td>10845</td>\n",
       "    </tr>\n",
       "    <tr>\n",
       "      <th>500</th>\n",
       "      <td>62</td>\n",
       "      <td>62</td>\n",
       "      <td>62</td>\n",
       "    </tr>\n",
       "    <tr>\n",
       "      <th>501</th>\n",
       "      <td>0</td>\n",
       "      <td>14</td>\n",
       "      <td>14</td>\n",
       "    </tr>\n",
       "  </tbody>\n",
       "</table>\n",
       "</div>"
      ],
      "text/plain": [
       "              b       IP  Request\n",
       "Status                           \n",
       "200     1701451  1701534  1701534\n",
       "302       37847    46573    46573\n",
       "304      132627   132627   132627\n",
       "400           0        5        5\n",
       "403           0       54       54\n",
       "404           1    10845    10845\n",
       "500          62       62       62\n",
       "501           0       14       14"
      ]
     },
     "execution_count": 15,
     "metadata": {},
     "output_type": "execute_result"
    }
   ],
   "source": [
    "# Fill code here\n",
    "grouped_status.count()"
   ]
  },
  {
   "cell_type": "code",
   "execution_count": 34,
   "metadata": {
    "collapsed": false
   },
   "outputs": [
    {
     "data": {
      "text/plain": [
       "<matplotlib.axes._subplots.AxesSubplot at 0x7f9733258c90>"
      ]
     },
     "execution_count": 34,
     "metadata": {},
     "output_type": "execute_result"
    },
    {
     "data": {
      "image/png": "[encoded data removed]",
      "text/plain": [
       "<matplotlib.figure.Figure at 0x7f97332766d0>"
      ]
     },
     "metadata": {},
     "output_type": "display_data"
    }
   ],
   "source": [
    "grouped_status.size().plot(kind=\"bar\", figsize=(10, 7))"
   ]
  },
  {
   "cell_type": "code",
   "execution_count": null,
   "metadata": {
    "collapsed": false
   },
   "outputs": [],
   "source": [
    "# Expected output"
   ]
  },
  {
   "cell_type": "markdown",
   "metadata": {},
   "source": [
    "## Part 5 : IPs"
   ]
  },
  {
   "cell_type": "markdown",
   "metadata": {},
   "source": [
    "Now I want to group by IPs and calculate how many requests we get from each of them: "
   ]
  },
  {
   "cell_type": "code",
   "execution_count": 46,
   "metadata": {
    "collapsed": true
   },
   "outputs": [],
   "source": [
    "# Fill code here\n",
    "grouped_ip = df.groupby(['IP'])\n",
    "count = grouped_ip.count()[[\"Request\"]]"
   ]
  },
  {
   "cell_type": "code",
   "execution_count": 56,
   "metadata": {
    "collapsed": false
   },
   "outputs": [],
   "source": [
    "sorted_ip = count.sort_values(by=\"Request\", ascending=False).head(10)"
   ]
  },
  {
   "cell_type": "markdown",
   "metadata": {},
   "source": [
    "Show top 10 IPs and number of requests as a bar chart."
   ]
  },
  {
   "cell_type": "code",
   "execution_count": 57,
   "metadata": {
    "collapsed": false
   },
   "outputs": [
    {
     "data": {
      "text/html": [
       "<div>\n",
       "<table border=\"1\" class=\"dataframe\">\n",
       "  <thead>\n",
       "    <tr style=\"text-align: right;\">\n",
       "      <th></th>\n",
       "      <th>Request</th>\n",
       "    </tr>\n",
       "    <tr>\n",
       "      <th>IP</th>\n",
       "      <th></th>\n",
       "    </tr>\n",
       "  </thead>\n",
       "  <tbody>\n",
       "    <tr>\n",
       "      <th>piweba3y.prodigy.com</th>\n",
       "      <td>17572</td>\n",
       "    </tr>\n",
       "    <tr>\n",
       "      <th>piweba4y.prodigy.com</th>\n",
       "      <td>11591</td>\n",
       "    </tr>\n",
       "    <tr>\n",
       "      <th>piweba1y.prodigy.com</th>\n",
       "      <td>9868</td>\n",
       "    </tr>\n",
       "    <tr>\n",
       "      <th>alyssa.prodigy.com</th>\n",
       "      <td>7852</td>\n",
       "    </tr>\n",
       "    <tr>\n",
       "      <th>siltb10.orl.mmc.com</th>\n",
       "      <td>7573</td>\n",
       "    </tr>\n",
       "    <tr>\n",
       "      <th>piweba2y.prodigy.com</th>\n",
       "      <td>5922</td>\n",
       "    </tr>\n",
       "    <tr>\n",
       "      <th>edams.ksc.nasa.gov</th>\n",
       "      <td>5434</td>\n",
       "    </tr>\n",
       "    <tr>\n",
       "      <th>163.206.89.4</th>\n",
       "      <td>4906</td>\n",
       "    </tr>\n",
       "    <tr>\n",
       "      <th>news.ti.com</th>\n",
       "      <td>4863</td>\n",
       "    </tr>\n",
       "    <tr>\n",
       "      <th>disarray.demon.co.uk</th>\n",
       "      <td>4353</td>\n",
       "    </tr>\n",
       "  </tbody>\n",
       "</table>\n",
       "</div>"
      ],
      "text/plain": [
       "                      Request\n",
       "IP                           \n",
       "piweba3y.prodigy.com    17572\n",
       "piweba4y.prodigy.com    11591\n",
       "piweba1y.prodigy.com     9868\n",
       "alyssa.prodigy.com       7852\n",
       "siltb10.orl.mmc.com      7573\n",
       "piweba2y.prodigy.com     5922\n",
       "edams.ksc.nasa.gov       5434\n",
       "163.206.89.4             4906\n",
       "news.ti.com              4863\n",
       "disarray.demon.co.uk     4353"
      ]
     },
     "execution_count": 57,
     "metadata": {},
     "output_type": "execute_result"
    }
   ],
   "source": [
    "# Fill code here\n",
    "sorted_ip"
   ]
  },
  {
   "cell_type": "code",
   "execution_count": 82,
   "metadata": {
    "collapsed": false
   },
   "outputs": [
    {
     "data": {
      "text/plain": [
       "<matplotlib.axes._subplots.AxesSubplot at 0x7f972c53ee10>"
      ]
     },
     "execution_count": 82,
     "metadata": {},
     "output_type": "execute_result"
    },
    {
     "data": {
      "image/png": "[encoded data removed]",
      "text/plain": [
       "<matplotlib.figure.Figure at 0x7f9732eac2d0>"
      ]
     },
     "metadata": {},
     "output_type": "display_data"
    }
   ],
   "source": [
    "sorted_ip.plot(kind=\"barh\", figsize=(10, 7))"
   ]
  },
  {
   "cell_type": "code",
   "execution_count": null,
   "metadata": {
    "collapsed": false
   },
   "outputs": [],
   "source": [
    "# Expected output"
   ]
  },
  {
   "cell_type": "markdown",
   "metadata": {},
   "source": [
    "I just want to have a nice table with the top 10 IPs, so I convert them to Data Frame :)"
   ]
  },
  {
   "cell_type": "code",
   "execution_count": 61,
   "metadata": {
    "collapsed": false
   },
   "outputs": [
    {
     "data": {
      "text/html": [
       "<div>\n",
       "<table border=\"1\" class=\"dataframe\">\n",
       "  <thead>\n",
       "    <tr style=\"text-align: right;\">\n",
       "      <th></th>\n",
       "      <th>Request</th>\n",
       "    </tr>\n",
       "    <tr>\n",
       "      <th>IP</th>\n",
       "      <th></th>\n",
       "    </tr>\n",
       "  </thead>\n",
       "  <tbody>\n",
       "    <tr>\n",
       "      <th>piweba3y.prodigy.com</th>\n",
       "      <td>17572</td>\n",
       "    </tr>\n",
       "    <tr>\n",
       "      <th>piweba4y.prodigy.com</th>\n",
       "      <td>11591</td>\n",
       "    </tr>\n",
       "    <tr>\n",
       "      <th>piweba1y.prodigy.com</th>\n",
       "      <td>9868</td>\n",
       "    </tr>\n",
       "    <tr>\n",
       "      <th>alyssa.prodigy.com</th>\n",
       "      <td>7852</td>\n",
       "    </tr>\n",
       "    <tr>\n",
       "      <th>siltb10.orl.mmc.com</th>\n",
       "      <td>7573</td>\n",
       "    </tr>\n",
       "    <tr>\n",
       "      <th>piweba2y.prodigy.com</th>\n",
       "      <td>5922</td>\n",
       "    </tr>\n",
       "    <tr>\n",
       "      <th>edams.ksc.nasa.gov</th>\n",
       "      <td>5434</td>\n",
       "    </tr>\n",
       "    <tr>\n",
       "      <th>163.206.89.4</th>\n",
       "      <td>4906</td>\n",
       "    </tr>\n",
       "    <tr>\n",
       "      <th>news.ti.com</th>\n",
       "      <td>4863</td>\n",
       "    </tr>\n",
       "    <tr>\n",
       "      <th>disarray.demon.co.uk</th>\n",
       "      <td>4353</td>\n",
       "    </tr>\n",
       "  </tbody>\n",
       "</table>\n",
       "</div>"
      ],
      "text/plain": [
       "                      Request\n",
       "IP                           \n",
       "piweba3y.prodigy.com    17572\n",
       "piweba4y.prodigy.com    11591\n",
       "piweba1y.prodigy.com     9868\n",
       "alyssa.prodigy.com       7852\n",
       "siltb10.orl.mmc.com      7573\n",
       "piweba2y.prodigy.com     5922\n",
       "edams.ksc.nasa.gov       5434\n",
       "163.206.89.4             4906\n",
       "news.ti.com              4863\n",
       "disarray.demon.co.uk     4353"
      ]
     },
     "execution_count": 61,
     "metadata": {},
     "output_type": "execute_result"
    }
   ],
   "source": [
    "# Fill code here\n",
    "df_ip = pd.DataFrame(sorted_ip)\n",
    "df_ip"
   ]
  },
  {
   "cell_type": "code",
   "execution_count": null,
   "metadata": {
    "collapsed": false
   },
   "outputs": [],
   "source": [
    "# Expected output"
   ]
  },
  {
   "cell_type": "markdown",
   "metadata": {},
   "source": [
    "We also can group by both *IP* and *Status*. Try and produce the bar chart as shown below."
   ]
  },
  {
   "cell_type": "code",
   "execution_count": 33,
   "metadata": {
    "collapsed": false
   },
   "outputs": [],
   "source": [
    "# Fill code here\n",
    "grouped_ip = df.groupby(['IP', 'Status'])"
   ]
  },
  {
   "cell_type": "code",
   "execution_count": 34,
   "metadata": {
    "collapsed": false
   },
   "outputs": [],
   "source": [
    "sorted_ip = grouped_ip.count()[[\"Request\"]].sort_values(by=\"Request\", ascending=False).head(10)"
   ]
  },
  {
   "cell_type": "code",
   "execution_count": null,
   "metadata": {
    "collapsed": false
   },
   "outputs": [],
   "source": []
  },
  {
   "cell_type": "code",
   "execution_count": 35,
   "metadata": {
    "collapsed": false
   },
   "outputs": [
    {
     "data": {
      "text/plain": [
       "<matplotlib.axes._subplots.AxesSubplot at 0x7f7fc4233dd0>"
      ]
     },
     "execution_count": 35,
     "metadata": {},
     "output_type": "execute_result"
    },
    {
     "data": {
      "image/png": "[encoded data removed]",
      "text/plain": [
       "<matplotlib.figure.Figure at 0x7f7fc4233710>"
      ]
     },
     "metadata": {},
     "output_type": "display_data"
    }
   ],
   "source": [
    "sorted_ip.plot(kind=\"barh\", figsize=(10, 7))"
   ]
  },
  {
   "cell_type": "code",
   "execution_count": null,
   "metadata": {
    "collapsed": false
   },
   "outputs": [],
   "source": [
    "# Expected output"
   ]
  },
  {
   "cell_type": "markdown",
   "metadata": {},
   "source": [
    "## Part 6: Geographical information"
   ]
  },
  {
   "cell_type": "markdown",
   "metadata": {},
   "source": [
    "In this part, you will further analyze the log file by cross-checking the ip/hostname with GeoIP data. This will let you know the geographical origin of the request.\n",
    "\n",
    "You will be 'pygeoip' package, which can be easily installed by `conda install -c chuongdo pygeoip=0.3.1`"
   ]
  },
  {
   "cell_type": "code",
   "execution_count": 9,
   "metadata": {
    "collapsed": false
   },
   "outputs": [],
   "source": [
    "import pygeoip\n",
    "gi = pygeoip.GeoIP('data/GeoIP.dat', pygeoip.MEMORY_CACHE)"
   ]
  },
  {
   "cell_type": "code",
   "execution_count": 10,
   "metadata": {
    "collapsed": true
   },
   "outputs": [],
   "source": [
    "from socket import gaierror"
   ]
  },
  {
   "cell_type": "markdown",
   "metadata": {},
   "source": [
    "One of the challenges for this part is that some entries are not the IP addresses but hostnames. Here is excerpt from pygeoip API. You can use these function to get the country code.\n",
    "\n",
    "```\n",
    "country_code_by_addr(addr) -- Returns 2-letter country code (e.g. US) from IP address.\n",
    "    Parameters:\taddr – IP address (e.g. 203.0.113.30)\n",
    "\n",
    "country_code_by_name(hostname) -- Returns 2-letter country code (e.g. US) from hostname.\n",
    "    Parameters:\thostname – Hostname (e.g. example.com)\n",
    "```\n",
    "\n",
    "** Caution: Looking up IP addresses can be extremely slow. It's okay to do this on a subset of data **"
   ]
  },
  {
   "cell_type": "code",
   "execution_count": 87,
   "metadata": {
    "collapsed": false
   },
   "outputs": [],
   "source": [
    "# Fill code here"
   ]
  },
  {
   "cell_type": "markdown",
   "metadata": {},
   "source": [
    "Create Data Frame similar to what shown below"
   ]
  },
  {
   "cell_type": "code",
   "execution_count": 11,
   "metadata": {
    "collapsed": false
   },
   "outputs": [],
   "source": [
    "# Fill code here\n",
    "lst = [\n",
    "    \"b10rn101.remote.ingr.com\",\n",
    "    \"194.21.12.40\",\n",
    "    \"ccas-slip2.saicyt.net.ve\",\n",
    "    \"stanton-1-1.cloverleaf.com\",\n",
    "    \"kosh-141b.berkeley.edu\"\n",
    "]"
   ]
  },
  {
   "cell_type": "code",
   "execution_count": 12,
   "metadata": {
    "collapsed": false
   },
   "outputs": [],
   "source": [
    "def getCode(x):\n",
    "    x = str(x)\n",
    "    if re.match(r'\\d+.\\d+.\\d+', x) == None:\n",
    "        try:\n",
    "            return gi.country_code_by_name(x)\n",
    "        except gaierror:\n",
    "            return \"UNKNOWN\"\n",
    "    else:\n",
    "        return gi.country_code_by_addr(x)"
   ]
  },
  {
   "cell_type": "code",
   "execution_count": 42,
   "metadata": {
    "collapsed": false
   },
   "outputs": [],
   "source": [
    "code = pd.Series( [getCode(val) for val in lst],index=lst,name = \"code\")"
   ]
  },
  {
   "cell_type": "code",
   "execution_count": 43,
   "metadata": {
    "collapsed": false
   },
   "outputs": [
    {
     "data": {
      "text/html": [
       "<div>\n",
       "<table border=\"1\" class=\"dataframe\">\n",
       "  <thead>\n",
       "    <tr style=\"text-align: right;\">\n",
       "      <th></th>\n",
       "      <th>code</th>\n",
       "    </tr>\n",
       "  </thead>\n",
       "  <tbody>\n",
       "    <tr>\n",
       "      <th>b10rn101.remote.ingr.com</th>\n",
       "      <td>UNKNOWN</td>\n",
       "    </tr>\n",
       "    <tr>\n",
       "      <th>194.21.12.40</th>\n",
       "      <td>IT</td>\n",
       "    </tr>\n",
       "    <tr>\n",
       "      <th>ccas-slip2.saicyt.net.ve</th>\n",
       "      <td>UNKNOWN</td>\n",
       "    </tr>\n",
       "    <tr>\n",
       "      <th>stanton-1-1.cloverleaf.com</th>\n",
       "      <td>UNKNOWN</td>\n",
       "    </tr>\n",
       "    <tr>\n",
       "      <th>kosh-141b.berkeley.edu</th>\n",
       "      <td>UNKNOWN</td>\n",
       "    </tr>\n",
       "  </tbody>\n",
       "</table>\n",
       "</div>"
      ],
      "text/plain": [
       "                               code\n",
       "b10rn101.remote.ingr.com    UNKNOWN\n",
       "194.21.12.40                     IT\n",
       "ccas-slip2.saicyt.net.ve    UNKNOWN\n",
       "stanton-1-1.cloverleaf.com  UNKNOWN\n",
       "kosh-141b.berkeley.edu      UNKNOWN"
      ]
     },
     "execution_count": 43,
     "metadata": {},
     "output_type": "execute_result"
    }
   ],
   "source": [
    "pd.DataFrame(code)"
   ]
  },
  {
   "cell_type": "code",
   "execution_count": 30,
   "metadata": {
    "collapsed": false
   },
   "outputs": [],
   "source": [
    "counter = {}\n",
    "for val in code:\n",
    "    counter[val] = counter.get(val, 0) + 1"
   ]
  },
  {
   "cell_type": "code",
   "execution_count": null,
   "metadata": {
    "collapsed": false
   },
   "outputs": [],
   "source": []
  },
  {
   "cell_type": "code",
   "execution_count": 100,
   "metadata": {
    "collapsed": false
   },
   "outputs": [],
   "source": [
    "ips = np.array(df[\"IP\"])\n",
    "idx = np.array([np.random.rand() < 0.0001 for ip in ips])"
   ]
  },
  {
   "cell_type": "code",
   "execution_count": 101,
   "metadata": {
    "collapsed": false
   },
   "outputs": [],
   "source": [
    "ips_indexed = ips[idx]"
   ]
  },
  {
   "cell_type": "code",
   "execution_count": 102,
   "metadata": {
    "collapsed": false
   },
   "outputs": [
    {
     "data": {
      "text/plain": [
       "171"
      ]
     },
     "execution_count": 102,
     "metadata": {},
     "output_type": "execute_result"
    }
   ],
   "source": [
    "len(ips_indexed)"
   ]
  },
  {
   "cell_type": "code",
   "execution_count": 103,
   "metadata": {
    "collapsed": false
   },
   "outputs": [],
   "source": [
    "sub_df = pd.DataFrame(ips_indexed, columns=[\"IP\"])"
   ]
  },
  {
   "cell_type": "code",
   "execution_count": 104,
   "metadata": {
    "collapsed": false
   },
   "outputs": [
    {
     "data": {
      "text/html": [
       "<div>\n",
       "<table border=\"1\" class=\"dataframe\">\n",
       "  <thead>\n",
       "    <tr style=\"text-align: right;\">\n",
       "      <th></th>\n",
       "      <th>IP</th>\n",
       "    </tr>\n",
       "  </thead>\n",
       "  <tbody>\n",
       "    <tr>\n",
       "      <th>0</th>\n",
       "      <td>crl7.crl.com</td>\n",
       "    </tr>\n",
       "    <tr>\n",
       "      <th>1</th>\n",
       "      <td>xslip36.csrv.uidaho.edu</td>\n",
       "    </tr>\n",
       "    <tr>\n",
       "      <th>2</th>\n",
       "      <td>hpsystem5.informatik.tu-muenchen.de</td>\n",
       "    </tr>\n",
       "    <tr>\n",
       "      <th>3</th>\n",
       "      <td>dialup806.washington.mci.net</td>\n",
       "    </tr>\n",
       "    <tr>\n",
       "      <th>4</th>\n",
       "      <td>solair1.inter.nl.net</td>\n",
       "    </tr>\n",
       "  </tbody>\n",
       "</table>\n",
       "</div>"
      ],
      "text/plain": [
       "                                    IP\n",
       "0                         crl7.crl.com\n",
       "1              xslip36.csrv.uidaho.edu\n",
       "2  hpsystem5.informatik.tu-muenchen.de\n",
       "3         dialup806.washington.mci.net\n",
       "4                 solair1.inter.nl.net"
      ]
     },
     "execution_count": 104,
     "metadata": {},
     "output_type": "execute_result"
    }
   ],
   "source": [
    "sub_df.head()"
   ]
  },
  {
   "cell_type": "code",
   "execution_count": 105,
   "metadata": {
    "collapsed": false
   },
   "outputs": [],
   "source": [
    "lst = sub_df[\"IP\"]\n",
    "code = pd.Series( [getCode(val) for val in lst],name = \"code\")"
   ]
  },
  {
   "cell_type": "code",
   "execution_count": 106,
   "metadata": {
    "collapsed": false
   },
   "outputs": [],
   "source": [
    "sub_df[\"code\"] = code"
   ]
  },
  {
   "cell_type": "code",
   "execution_count": null,
   "metadata": {
    "collapsed": true
   },
   "outputs": [],
   "source": []
  },
  {
   "cell_type": "code",
   "execution_count": 107,
   "metadata": {
    "collapsed": false
   },
   "outputs": [
    {
     "data": {
      "text/plain": [
       "<matplotlib.axes._subplots.AxesSubplot at 0x7f7fc1b894d0>"
      ]
     },
     "execution_count": 107,
     "metadata": {},
     "output_type": "execute_result"
    },
    {
     "data": {
      "image/png": "[encoded data removed]",
      "text/plain": [
       "<matplotlib.figure.Figure at 0x7f7fc1bdc390>"
      ]
     },
     "metadata": {},
     "output_type": "display_data"
    }
   ],
   "source": [
    "sub_df.groupby(\"code\").count().sort_values(by=\"IP\", ascending=True).plot(kind='barh', figsize=(10, 7))"
   ]
  },
  {
   "cell_type": "code",
   "execution_count": null,
   "metadata": {
    "collapsed": false
   },
   "outputs": [],
   "source": [
    "# Expected output"
   ]
  },
  {
   "cell_type": "markdown",
   "metadata": {},
   "source": [
    "Credit: This exercise is based on a notebook by Nikolay Koldunov [koldunov.net](http://koldunov.net)"
   ]
  }
 ],
 "metadata": {
  "anaconda-cloud": {},
  "kernelspec": {
   "display_name": "Python 2",
   "language": "python",
   "name": "python2"
  },
  "language_info": {
   "codemirror_mode": {
    "name": "ipython",
    "version": 2
   },
   "file_extension": ".py",
   "mimetype": "text/x-python",
   "name": "python",
   "nbconvert_exporter": "python",
   "pygments_lexer": "ipython2",
   "version": "2.7.12"
  }
 },
 "nbformat": 4,
 "nbformat_minor": 0
}
