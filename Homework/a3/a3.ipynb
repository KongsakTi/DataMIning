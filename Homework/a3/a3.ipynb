{
 "cells": [
  {
   "cell_type": "code",
   "execution_count": 1,
   "metadata": {
    "collapsed": false
   },
   "outputs": [],
   "source": [
    "%matplotlib inline\n",
    "\n",
    "import matplotlib\n",
    "# matplotlib.style.use('ggplot')\n",
    "\n",
    "import pandas as pd\n",
    "import numpy as np\n",
    "import matplotlib.pyplot as plt\n",
    "from scipy.optimize import fmin, minimize\n",
    "\n",
    "import re"
   ]
  },
  {
   "cell_type": "code",
   "execution_count": 2,
   "metadata": {
    "collapsed": true
   },
   "outputs": [],
   "source": [
    "raw_attr = r\"\"\"\n",
    "1. Class\n",
    "2. SpecimenNumber\n",
    "3. Eccentricity\n",
    "4. AspectRatio\n",
    "5. Elongation\n",
    "6. Solidity\n",
    "7. StochasticConvexity \n",
    "8. IsoperimetricFactor\n",
    "9. MaximalIndentationDepth \n",
    "10. Lobedness\n",
    "11. AverageIntensity\n",
    "12. AverageContrast\n",
    "13. Smoothness \n",
    "14. Thirdmoment \n",
    "15. Uniformity\n",
    "16. Entropy\n",
    "\"\"\""
   ]
  },
  {
   "cell_type": "code",
   "execution_count": 3,
   "metadata": {
    "collapsed": false
   },
   "outputs": [],
   "source": [
    "raw_attr = raw_attr.replace(\"\\n\", \" \")"
   ]
  },
  {
   "cell_type": "code",
   "execution_count": 4,
   "metadata": {
    "collapsed": false
   },
   "outputs": [],
   "source": [
    "isString = lambda x: re.match(\"\\d+\", x) == None and x != \"\"\n",
    "attr = filter(isString, raw_attr.split(\" \"))"
   ]
  },
  {
   "cell_type": "code",
   "execution_count": 5,
   "metadata": {
    "collapsed": false
   },
   "outputs": [
    {
     "data": {
      "text/plain": [
       "['Class',\n",
       " 'SpecimenNumber',\n",
       " 'Eccentricity',\n",
       " 'AspectRatio',\n",
       " 'Elongation',\n",
       " 'Solidity',\n",
       " 'StochasticConvexity',\n",
       " 'IsoperimetricFactor',\n",
       " 'MaximalIndentationDepth',\n",
       " 'Lobedness',\n",
       " 'AverageIntensity',\n",
       " 'AverageContrast',\n",
       " 'Smoothness',\n",
       " 'Thirdmoment',\n",
       " 'Uniformity',\n",
       " 'Entropy']"
      ]
     },
     "execution_count": 5,
     "metadata": {},
     "output_type": "execute_result"
    }
   ],
   "source": [
    "attr"
   ]
  },
  {
   "cell_type": "code",
   "execution_count": 6,
   "metadata": {
    "collapsed": false
   },
   "outputs": [],
   "source": [
    "df = pd.read_csv(\"leaf.csv\", names=attr)"
   ]
  },
  {
   "cell_type": "code",
   "execution_count": 7,
   "metadata": {
    "collapsed": false
   },
   "outputs": [
    {
     "data": {
      "text/html": [
       "<div>\n",
       "<table border=\"1\" class=\"dataframe\">\n",
       "  <thead>\n",
       "    <tr style=\"text-align: right;\">\n",
       "      <th></th>\n",
       "      <th>Class</th>\n",
       "      <th>SpecimenNumber</th>\n",
       "      <th>Eccentricity</th>\n",
       "      <th>AspectRatio</th>\n",
       "      <th>Elongation</th>\n",
       "      <th>Solidity</th>\n",
       "      <th>StochasticConvexity</th>\n",
       "      <th>IsoperimetricFactor</th>\n",
       "      <th>MaximalIndentationDepth</th>\n",
       "      <th>Lobedness</th>\n",
       "      <th>AverageIntensity</th>\n",
       "      <th>AverageContrast</th>\n",
       "      <th>Smoothness</th>\n",
       "      <th>Thirdmoment</th>\n",
       "      <th>Uniformity</th>\n",
       "      <th>Entropy</th>\n",
       "    </tr>\n",
       "  </thead>\n",
       "  <tbody>\n",
       "    <tr>\n",
       "      <th>330</th>\n",
       "      <td>36</td>\n",
       "      <td>1</td>\n",
       "      <td>0.39093</td>\n",
       "      <td>1.1025</td>\n",
       "      <td>0.73351</td>\n",
       "      <td>0.72022</td>\n",
       "      <td>0.69474</td>\n",
       "      <td>0.179540</td>\n",
       "      <td>0.076072</td>\n",
       "      <td>1.05320</td>\n",
       "      <td>0.059213</td>\n",
       "      <td>0.15747</td>\n",
       "      <td>0.024197</td>\n",
       "      <td>0.009541</td>\n",
       "      <td>0.000247</td>\n",
       "      <td>1.2042</td>\n",
       "    </tr>\n",
       "    <tr>\n",
       "      <th>331</th>\n",
       "      <td>36</td>\n",
       "      <td>2</td>\n",
       "      <td>0.47124</td>\n",
       "      <td>1.1349</td>\n",
       "      <td>0.81159</td>\n",
       "      <td>0.65915</td>\n",
       "      <td>0.47368</td>\n",
       "      <td>0.093982</td>\n",
       "      <td>0.096492</td>\n",
       "      <td>1.69450</td>\n",
       "      <td>0.098618</td>\n",
       "      <td>0.21062</td>\n",
       "      <td>0.042478</td>\n",
       "      <td>0.016848</td>\n",
       "      <td>0.000581</td>\n",
       "      <td>1.5913</td>\n",
       "    </tr>\n",
       "    <tr>\n",
       "      <th>332</th>\n",
       "      <td>36</td>\n",
       "      <td>3</td>\n",
       "      <td>0.36870</td>\n",
       "      <td>1.0456</td>\n",
       "      <td>0.77124</td>\n",
       "      <td>0.74413</td>\n",
       "      <td>0.77368</td>\n",
       "      <td>0.222780</td>\n",
       "      <td>0.075187</td>\n",
       "      <td>1.02890</td>\n",
       "      <td>0.074488</td>\n",
       "      <td>0.17993</td>\n",
       "      <td>0.031359</td>\n",
       "      <td>0.012414</td>\n",
       "      <td>0.000347</td>\n",
       "      <td>1.3541</td>\n",
       "    </tr>\n",
       "    <tr>\n",
       "      <th>333</th>\n",
       "      <td>36</td>\n",
       "      <td>4</td>\n",
       "      <td>0.14986</td>\n",
       "      <td>1.0558</td>\n",
       "      <td>0.77733</td>\n",
       "      <td>0.73454</td>\n",
       "      <td>0.66316</td>\n",
       "      <td>0.168800</td>\n",
       "      <td>0.080410</td>\n",
       "      <td>1.17680</td>\n",
       "      <td>0.103950</td>\n",
       "      <td>0.18060</td>\n",
       "      <td>0.031585</td>\n",
       "      <td>0.008017</td>\n",
       "      <td>0.001432</td>\n",
       "      <td>1.9975</td>\n",
       "    </tr>\n",
       "    <tr>\n",
       "      <th>334</th>\n",
       "      <td>36</td>\n",
       "      <td>5</td>\n",
       "      <td>0.68069</td>\n",
       "      <td>1.1866</td>\n",
       "      <td>0.78745</td>\n",
       "      <td>0.73496</td>\n",
       "      <td>0.60000</td>\n",
       "      <td>0.140290</td>\n",
       "      <td>0.072447</td>\n",
       "      <td>0.95524</td>\n",
       "      <td>0.092770</td>\n",
       "      <td>0.18451</td>\n",
       "      <td>0.032923</td>\n",
       "      <td>0.010852</td>\n",
       "      <td>0.000594</td>\n",
       "      <td>1.8568</td>\n",
       "    </tr>\n",
       "    <tr>\n",
       "      <th>335</th>\n",
       "      <td>36</td>\n",
       "      <td>6</td>\n",
       "      <td>0.37522</td>\n",
       "      <td>1.1417</td>\n",
       "      <td>0.81725</td>\n",
       "      <td>0.68511</td>\n",
       "      <td>0.58772</td>\n",
       "      <td>0.125230</td>\n",
       "      <td>0.091860</td>\n",
       "      <td>1.53580</td>\n",
       "      <td>0.114880</td>\n",
       "      <td>0.20861</td>\n",
       "      <td>0.041703</td>\n",
       "      <td>0.013344</td>\n",
       "      <td>0.000820</td>\n",
       "      <td>2.0281</td>\n",
       "    </tr>\n",
       "    <tr>\n",
       "      <th>336</th>\n",
       "      <td>36</td>\n",
       "      <td>7</td>\n",
       "      <td>0.28064</td>\n",
       "      <td>1.0849</td>\n",
       "      <td>0.75319</td>\n",
       "      <td>0.72152</td>\n",
       "      <td>0.71404</td>\n",
       "      <td>0.136860</td>\n",
       "      <td>0.078996</td>\n",
       "      <td>1.13580</td>\n",
       "      <td>0.141220</td>\n",
       "      <td>0.21830</td>\n",
       "      <td>0.045488</td>\n",
       "      <td>0.012002</td>\n",
       "      <td>0.001515</td>\n",
       "      <td>2.4059</td>\n",
       "    </tr>\n",
       "    <tr>\n",
       "      <th>337</th>\n",
       "      <td>36</td>\n",
       "      <td>8</td>\n",
       "      <td>0.35344</td>\n",
       "      <td>1.0329</td>\n",
       "      <td>0.78147</td>\n",
       "      <td>0.70737</td>\n",
       "      <td>0.61579</td>\n",
       "      <td>0.135030</td>\n",
       "      <td>0.089763</td>\n",
       "      <td>1.46640</td>\n",
       "      <td>0.097663</td>\n",
       "      <td>0.20703</td>\n",
       "      <td>0.041101</td>\n",
       "      <td>0.016123</td>\n",
       "      <td>0.000453</td>\n",
       "      <td>1.6935</td>\n",
       "    </tr>\n",
       "    <tr>\n",
       "      <th>338</th>\n",
       "      <td>36</td>\n",
       "      <td>9</td>\n",
       "      <td>0.59988</td>\n",
       "      <td>1.1427</td>\n",
       "      <td>0.71532</td>\n",
       "      <td>0.66101</td>\n",
       "      <td>0.47544</td>\n",
       "      <td>0.157470</td>\n",
       "      <td>0.113370</td>\n",
       "      <td>2.33940</td>\n",
       "      <td>0.050389</td>\n",
       "      <td>0.13585</td>\n",
       "      <td>0.018121</td>\n",
       "      <td>0.006190</td>\n",
       "      <td>0.000265</td>\n",
       "      <td>1.1526</td>\n",
       "    </tr>\n",
       "    <tr>\n",
       "      <th>339</th>\n",
       "      <td>36</td>\n",
       "      <td>10</td>\n",
       "      <td>0.47195</td>\n",
       "      <td>1.0901</td>\n",
       "      <td>0.85409</td>\n",
       "      <td>0.53598</td>\n",
       "      <td>0.39649</td>\n",
       "      <td>0.078376</td>\n",
       "      <td>0.132270</td>\n",
       "      <td>3.18400</td>\n",
       "      <td>0.082007</td>\n",
       "      <td>0.18782</td>\n",
       "      <td>0.034074</td>\n",
       "      <td>0.013487</td>\n",
       "      <td>0.000329</td>\n",
       "      <td>1.5623</td>\n",
       "    </tr>\n",
       "  </tbody>\n",
       "</table>\n",
       "</div>"
      ],
      "text/plain": [
       "     Class  SpecimenNumber  Eccentricity  AspectRatio  Elongation  Solidity  \\\n",
       "330     36               1       0.39093       1.1025     0.73351   0.72022   \n",
       "331     36               2       0.47124       1.1349     0.81159   0.65915   \n",
       "332     36               3       0.36870       1.0456     0.77124   0.74413   \n",
       "333     36               4       0.14986       1.0558     0.77733   0.73454   \n",
       "334     36               5       0.68069       1.1866     0.78745   0.73496   \n",
       "335     36               6       0.37522       1.1417     0.81725   0.68511   \n",
       "336     36               7       0.28064       1.0849     0.75319   0.72152   \n",
       "337     36               8       0.35344       1.0329     0.78147   0.70737   \n",
       "338     36               9       0.59988       1.1427     0.71532   0.66101   \n",
       "339     36              10       0.47195       1.0901     0.85409   0.53598   \n",
       "\n",
       "     StochasticConvexity  IsoperimetricFactor  MaximalIndentationDepth  \\\n",
       "330              0.69474             0.179540                 0.076072   \n",
       "331              0.47368             0.093982                 0.096492   \n",
       "332              0.77368             0.222780                 0.075187   \n",
       "333              0.66316             0.168800                 0.080410   \n",
       "334              0.60000             0.140290                 0.072447   \n",
       "335              0.58772             0.125230                 0.091860   \n",
       "336              0.71404             0.136860                 0.078996   \n",
       "337              0.61579             0.135030                 0.089763   \n",
       "338              0.47544             0.157470                 0.113370   \n",
       "339              0.39649             0.078376                 0.132270   \n",
       "\n",
       "     Lobedness  AverageIntensity  AverageContrast  Smoothness  Thirdmoment  \\\n",
       "330    1.05320          0.059213          0.15747    0.024197     0.009541   \n",
       "331    1.69450          0.098618          0.21062    0.042478     0.016848   \n",
       "332    1.02890          0.074488          0.17993    0.031359     0.012414   \n",
       "333    1.17680          0.103950          0.18060    0.031585     0.008017   \n",
       "334    0.95524          0.092770          0.18451    0.032923     0.010852   \n",
       "335    1.53580          0.114880          0.20861    0.041703     0.013344   \n",
       "336    1.13580          0.141220          0.21830    0.045488     0.012002   \n",
       "337    1.46640          0.097663          0.20703    0.041101     0.016123   \n",
       "338    2.33940          0.050389          0.13585    0.018121     0.006190   \n",
       "339    3.18400          0.082007          0.18782    0.034074     0.013487   \n",
       "\n",
       "     Uniformity  Entropy  \n",
       "330    0.000247   1.2042  \n",
       "331    0.000581   1.5913  \n",
       "332    0.000347   1.3541  \n",
       "333    0.001432   1.9975  \n",
       "334    0.000594   1.8568  \n",
       "335    0.000820   2.0281  \n",
       "336    0.001515   2.4059  \n",
       "337    0.000453   1.6935  \n",
       "338    0.000265   1.1526  \n",
       "339    0.000329   1.5623  "
      ]
     },
     "execution_count": 7,
     "metadata": {},
     "output_type": "execute_result"
    }
   ],
   "source": [
    "index = df.loc[:, \"Class\"] == 36\n",
    "df[index]"
   ]
  },
  {
   "cell_type": "code",
   "execution_count": 8,
   "metadata": {
    "collapsed": true
   },
   "outputs": [],
   "source": [
    "index_train = df.loc[:, \"SpecimenNumber\"] <= 7 \n",
    "index_test = df.loc[:, \"SpecimenNumber\"] > 7 "
   ]
  },
  {
   "cell_type": "code",
   "execution_count": 9,
   "metadata": {
    "collapsed": true
   },
   "outputs": [],
   "source": [
    "df_train = df.loc[:,[u'Class', u'Eccentricity', u'AspectRatio',\n",
    "       u'Elongation', u'Solidity', u'StochasticConvexity',\n",
    "       u'IsoperimetricFactor', u'MaximalIndentationDepth', u'Lobedness',\n",
    "       u'AverageIntensity', u'AverageContrast', u'Smoothness', u'Thirdmoment',\n",
    "       u'Uniformity', u'Entropy']][index_train]\n",
    "\n",
    "df_test = df.loc[:,[u'Class', u'Eccentricity', u'AspectRatio',\n",
    "       u'Elongation', u'Solidity', u'StochasticConvexity',\n",
    "       u'IsoperimetricFactor', u'MaximalIndentationDepth', u'Lobedness',\n",
    "       u'AverageIntensity', u'AverageContrast', u'Smoothness', u'Thirdmoment',\n",
    "       u'Uniformity', u'Entropy']][index_test]"
   ]
  },
  {
   "cell_type": "code",
   "execution_count": 10,
   "metadata": {
    "collapsed": false
   },
   "outputs": [
    {
     "data": {
      "text/html": [
       "<div>\n",
       "<table border=\"1\" class=\"dataframe\">\n",
       "  <thead>\n",
       "    <tr style=\"text-align: right;\">\n",
       "      <th></th>\n",
       "      <th>Class</th>\n",
       "      <th>Eccentricity</th>\n",
       "      <th>AspectRatio</th>\n",
       "      <th>Elongation</th>\n",
       "      <th>Solidity</th>\n",
       "      <th>StochasticConvexity</th>\n",
       "      <th>IsoperimetricFactor</th>\n",
       "      <th>MaximalIndentationDepth</th>\n",
       "      <th>Lobedness</th>\n",
       "      <th>AverageIntensity</th>\n",
       "      <th>AverageContrast</th>\n",
       "      <th>Smoothness</th>\n",
       "      <th>Thirdmoment</th>\n",
       "      <th>Uniformity</th>\n",
       "      <th>Entropy</th>\n",
       "    </tr>\n",
       "  </thead>\n",
       "  <tbody>\n",
       "    <tr>\n",
       "      <th>0</th>\n",
       "      <td>1</td>\n",
       "      <td>0.72694</td>\n",
       "      <td>1.4742</td>\n",
       "      <td>0.32396</td>\n",
       "      <td>0.98535</td>\n",
       "      <td>1.00000</td>\n",
       "      <td>0.83592</td>\n",
       "      <td>0.004657</td>\n",
       "      <td>0.003947</td>\n",
       "      <td>0.047790</td>\n",
       "      <td>0.127950</td>\n",
       "      <td>0.016108</td>\n",
       "      <td>0.005232</td>\n",
       "      <td>0.000275</td>\n",
       "      <td>1.17560</td>\n",
       "    </tr>\n",
       "    <tr>\n",
       "      <th>1</th>\n",
       "      <td>1</td>\n",
       "      <td>0.74173</td>\n",
       "      <td>1.5257</td>\n",
       "      <td>0.36116</td>\n",
       "      <td>0.98152</td>\n",
       "      <td>0.99825</td>\n",
       "      <td>0.79867</td>\n",
       "      <td>0.005242</td>\n",
       "      <td>0.005002</td>\n",
       "      <td>0.024160</td>\n",
       "      <td>0.090476</td>\n",
       "      <td>0.008119</td>\n",
       "      <td>0.002708</td>\n",
       "      <td>0.000075</td>\n",
       "      <td>0.69659</td>\n",
       "    </tr>\n",
       "    <tr>\n",
       "      <th>2</th>\n",
       "      <td>1</td>\n",
       "      <td>0.76722</td>\n",
       "      <td>1.5725</td>\n",
       "      <td>0.38998</td>\n",
       "      <td>0.97755</td>\n",
       "      <td>1.00000</td>\n",
       "      <td>0.80812</td>\n",
       "      <td>0.007457</td>\n",
       "      <td>0.010121</td>\n",
       "      <td>0.011897</td>\n",
       "      <td>0.057445</td>\n",
       "      <td>0.003289</td>\n",
       "      <td>0.000921</td>\n",
       "      <td>0.000038</td>\n",
       "      <td>0.44348</td>\n",
       "    </tr>\n",
       "    <tr>\n",
       "      <th>3</th>\n",
       "      <td>1</td>\n",
       "      <td>0.73797</td>\n",
       "      <td>1.4597</td>\n",
       "      <td>0.35376</td>\n",
       "      <td>0.97566</td>\n",
       "      <td>1.00000</td>\n",
       "      <td>0.81697</td>\n",
       "      <td>0.006877</td>\n",
       "      <td>0.008607</td>\n",
       "      <td>0.015950</td>\n",
       "      <td>0.065491</td>\n",
       "      <td>0.004271</td>\n",
       "      <td>0.001154</td>\n",
       "      <td>0.000066</td>\n",
       "      <td>0.58785</td>\n",
       "    </tr>\n",
       "    <tr>\n",
       "      <th>4</th>\n",
       "      <td>1</td>\n",
       "      <td>0.82301</td>\n",
       "      <td>1.7707</td>\n",
       "      <td>0.44462</td>\n",
       "      <td>0.97698</td>\n",
       "      <td>1.00000</td>\n",
       "      <td>0.75493</td>\n",
       "      <td>0.007428</td>\n",
       "      <td>0.010042</td>\n",
       "      <td>0.007938</td>\n",
       "      <td>0.045339</td>\n",
       "      <td>0.002051</td>\n",
       "      <td>0.000560</td>\n",
       "      <td>0.000024</td>\n",
       "      <td>0.34214</td>\n",
       "    </tr>\n",
       "  </tbody>\n",
       "</table>\n",
       "</div>"
      ],
      "text/plain": [
       "   Class  Eccentricity  AspectRatio  Elongation  Solidity  \\\n",
       "0      1       0.72694       1.4742     0.32396   0.98535   \n",
       "1      1       0.74173       1.5257     0.36116   0.98152   \n",
       "2      1       0.76722       1.5725     0.38998   0.97755   \n",
       "3      1       0.73797       1.4597     0.35376   0.97566   \n",
       "4      1       0.82301       1.7707     0.44462   0.97698   \n",
       "\n",
       "   StochasticConvexity  IsoperimetricFactor  MaximalIndentationDepth  \\\n",
       "0              1.00000              0.83592                 0.004657   \n",
       "1              0.99825              0.79867                 0.005242   \n",
       "2              1.00000              0.80812                 0.007457   \n",
       "3              1.00000              0.81697                 0.006877   \n",
       "4              1.00000              0.75493                 0.007428   \n",
       "\n",
       "   Lobedness  AverageIntensity  AverageContrast  Smoothness  Thirdmoment  \\\n",
       "0   0.003947          0.047790         0.127950    0.016108     0.005232   \n",
       "1   0.005002          0.024160         0.090476    0.008119     0.002708   \n",
       "2   0.010121          0.011897         0.057445    0.003289     0.000921   \n",
       "3   0.008607          0.015950         0.065491    0.004271     0.001154   \n",
       "4   0.010042          0.007938         0.045339    0.002051     0.000560   \n",
       "\n",
       "   Uniformity  Entropy  \n",
       "0    0.000275  1.17560  \n",
       "1    0.000075  0.69659  \n",
       "2    0.000038  0.44348  \n",
       "3    0.000066  0.58785  \n",
       "4    0.000024  0.34214  "
      ]
     },
     "execution_count": 10,
     "metadata": {},
     "output_type": "execute_result"
    }
   ],
   "source": [
    "df_train.head()"
   ]
  },
  {
   "cell_type": "code",
   "execution_count": 11,
   "metadata": {
    "collapsed": true
   },
   "outputs": [],
   "source": [
    "xs_train = np.array(df_train.loc[:, [u'Eccentricity', u'AspectRatio',\n",
    "       u'Elongation', u'Solidity', u'StochasticConvexity',\n",
    "       u'IsoperimetricFactor', u'MaximalIndentationDepth', u'Lobedness',\n",
    "       u'AverageIntensity', u'AverageContrast', u'Smoothness', u'Thirdmoment',\n",
    "       u'Uniformity', u'Entropy']])\n",
    "\n",
    "xs_test = np.array(df_test.loc[:, [u'Eccentricity', u'AspectRatio',\n",
    "       u'Elongation', u'Solidity', u'StochasticConvexity',\n",
    "       u'IsoperimetricFactor', u'MaximalIndentationDepth', u'Lobedness',\n",
    "       u'AverageIntensity', u'AverageContrast', u'Smoothness', u'Thirdmoment',\n",
    "       u'Uniformity', u'Entropy']])"
   ]
  },
  {
   "cell_type": "code",
   "execution_count": 12,
   "metadata": {
    "collapsed": false
   },
   "outputs": [],
   "source": [
    "ys_train = np.array([ 1 if boolean else -1 for boolean in np.array(df_train.loc[:,'Class']) == 36 ])\n",
    "ys_test = np.array([ 1 if boolean else -1 for boolean in np.array(df_test.loc[:,'Class']) == 36 ])"
   ]
  },
  {
   "cell_type": "code",
   "execution_count": 13,
   "metadata": {
    "collapsed": false
   },
   "outputs": [
    {
     "data": {
      "text/plain": [
       "array([-1, -1, -1, -1, -1, -1, -1, -1, -1, -1, -1, -1, -1, -1, -1, -1, -1,\n",
       "       -1, -1, -1, -1, -1, -1, -1, -1, -1, -1, -1, -1, -1, -1, -1, -1, -1,\n",
       "       -1, -1, -1, -1, -1, -1, -1, -1, -1, -1, -1, -1, -1, -1, -1, -1, -1,\n",
       "       -1, -1, -1, -1, -1, -1, -1, -1, -1, -1, -1, -1, -1, -1, -1, -1, -1,\n",
       "       -1, -1, -1, -1, -1, -1, -1, -1, -1, -1, -1, -1, -1, -1, -1, -1, -1,\n",
       "       -1, -1, -1, -1, -1, -1, -1, -1, -1, -1, -1, -1, -1, -1, -1, -1, -1,\n",
       "       -1, -1, -1, -1, -1, -1, -1, -1, -1, -1, -1, -1, -1, -1, -1, -1, -1,\n",
       "       -1, -1, -1, -1, -1, -1, -1, -1, -1, -1, -1, -1, -1, -1, -1, -1, -1,\n",
       "       -1, -1, -1, -1, -1, -1, -1, -1, -1, -1, -1, -1, -1, -1, -1, -1, -1,\n",
       "       -1, -1, -1, -1, -1, -1, -1, -1, -1, -1, -1, -1, -1, -1, -1, -1, -1,\n",
       "       -1, -1, -1, -1, -1, -1, -1, -1, -1, -1, -1, -1, -1, -1, -1, -1, -1,\n",
       "       -1, -1, -1, -1, -1, -1, -1, -1, -1, -1, -1, -1, -1, -1, -1, -1,  1,\n",
       "        1,  1,  1,  1,  1,  1])"
      ]
     },
     "execution_count": 13,
     "metadata": {},
     "output_type": "execute_result"
    }
   ],
   "source": [
    "ys_train"
   ]
  },
  {
   "cell_type": "code",
   "execution_count": 14,
   "metadata": {
    "collapsed": false
   },
   "outputs": [],
   "source": [
    "class LogisticRegression:\n",
    "    def __init__(self):\n",
    "        self.w = None\n",
    "        \n",
    "    def train(self, features, classes):\n",
    "        \n",
    "        def cost(w):\n",
    "            s = np.dot(features, w)\n",
    "            s = np.clip(s, -200, 200)\n",
    "            \n",
    "            guesses = np.log1p(np.exp(-classes*s))\n",
    "            return np.sum(np.log1p(np.exp(-classes*s)))\n",
    "\n",
    "        self.w = minimize(cost, [0.]*len(features[0])).x\n",
    "        \n",
    "    def classify(self, features):\n",
    "        s = np.dot(features, self.w)\n",
    "        s = np.clip(s, -200, 200)\n",
    "        return 1./(1 + np.exp(-s))"
   ]
  },
  {
   "cell_type": "code",
   "execution_count": 15,
   "metadata": {
    "collapsed": false
   },
   "outputs": [],
   "source": [
    "LR = LogisticRegression()\n",
    "LR.train(xs_train, ys_train)"
   ]
  },
  {
   "cell_type": "code",
   "execution_count": 16,
   "metadata": {
    "collapsed": false
   },
   "outputs": [
    {
     "data": {
      "text/plain": [
       "array([ -6.83587559e+02,  -1.32628964e+01,   1.01579790e+03,\n",
       "         2.24731410e+02,  -3.01504210e+02,  -1.80753908e+02,\n",
       "         1.31208403e+01,  -1.52856775e+02,   1.32617299e+02,\n",
       "         3.10710200e+02,   8.26242378e+01,   3.68256294e+01,\n",
       "         4.73517360e-01,  -4.09974663e+01])"
      ]
     },
     "execution_count": 16,
     "metadata": {},
     "output_type": "execute_result"
    }
   ],
   "source": [
    "LR.w"
   ]
  },
  {
   "cell_type": "code",
   "execution_count": 19,
   "metadata": {
    "collapsed": false
   },
   "outputs": [
    {
     "name": "stdout",
     "output_type": "stream",
     "text": [
      "Accuracy: 99.23%\n",
      "Precision: 100.00%\n",
      "Recall: 66.67%\n",
      "F1 Score: 80.00%\n"
     ]
    }
   ],
   "source": [
    "classes = ys_test\n",
    "features = xs_test\n",
    "\n",
    "true_positive = 0.\n",
    "true_negative = 0.\n",
    "false_positive = 0.\n",
    "false_negative = 0.\n",
    "\n",
    "for idx in xrange(len(classes)):\n",
    "    prob = LR.classify(features[idx])\n",
    "    \n",
    "    if prob >= 0.5:\n",
    "        if classes[idx] == 1:\n",
    "            true_positive += 1\n",
    "        else:\n",
    "            false_positive += 1\n",
    "    else:\n",
    "        if classes[idx] == 1:\n",
    "            false_negative += 1\n",
    "        else:\n",
    "            true_negative += 1\n",
    "        \n",
    "precision = (true_positive)/(true_positive + false_positive)\n",
    "recall = (true_positive)/(true_positive + false_negative)\n",
    "print \"Accuracy: {0:.2f}%\".format((true_positive + true_negative)/len(classes) * 100.)\n",
    "print \"Precision: {0:.2f}%\".format(precision * 100.)\n",
    "print \"Recall: {0:.2f}%\".format(recall * 100.)\n",
    "print \"F1 Score: {0:.2f}%\".format(2 * (precision * recall)/(precision + recall) * 100)"
   ]
  },
  {
   "cell_type": "code",
   "execution_count": null,
   "metadata": {
    "collapsed": true
   },
   "outputs": [],
   "source": []
  },
  {
   "cell_type": "code",
   "execution_count": null,
   "metadata": {
    "collapsed": true
   },
   "outputs": [],
   "source": []
  }
 ],
 "metadata": {
  "kernelspec": {
   "display_name": "Python 2",
   "language": "python",
   "name": "python2"
  },
  "language_info": {
   "codemirror_mode": {
    "name": "ipython",
    "version": 2
   },
   "file_extension": ".py",
   "mimetype": "text/x-python",
   "name": "python",
   "nbconvert_exporter": "python",
   "pygments_lexer": "ipython2",
   "version": "2.7.10"
  }
 },
 "nbformat": 4,
 "nbformat_minor": 0
}
